{
 "cells": [
  {
   "cell_type": "code",
   "execution_count": 14,
   "metadata": {},
   "outputs": [
    {
     "name": "stdout",
     "output_type": "stream",
     "text": [
      "Model type: <class 'type'>\n",
      "Failed to make a prediction for C:\\Users\\serru\\Downloads\\archive (1)\\Helpmemore\\Combined\\ISIC_0034294.jpg. Error: predict() missing 1 required positional argument: 'X'\n",
      "Failed to make a prediction for C:\\Users\\serru\\Downloads\\archive (1)\\Helpmemore\\Combined\\ISIC_0034295.jpg. Error: predict() missing 1 required positional argument: 'X'\n",
      "Failed to make a prediction for C:\\Users\\serru\\Downloads\\archive (1)\\Helpmemore\\Combined\\ISIC_0034296.jpg. Error: predict() missing 1 required positional argument: 'X'\n",
      "Failed to make a prediction for C:\\Users\\serru\\Downloads\\archive (1)\\Helpmemore\\Combined\\ISIC_0034297.jpg. Error: predict() missing 1 required positional argument: 'X'\n",
      "Failed to make a prediction for C:\\Users\\serru\\Downloads\\archive (1)\\Helpmemore\\Combined\\ISIC_0034298.jpg. Error: predict() missing 1 required positional argument: 'X'\n",
      "Failed to make a prediction for C:\\Users\\serru\\Downloads\\archive (1)\\Helpmemore\\Combined\\ISIC_0034299.jpg. Error: predict() missing 1 required positional argument: 'X'\n",
      "Failed to make a prediction for C:\\Users\\serru\\Downloads\\archive (1)\\Helpmemore\\Combined\\ISIC_0034300.jpg. Error: predict() missing 1 required positional argument: 'X'\n",
      "Failed to make a prediction for C:\\Users\\serru\\Downloads\\archive (1)\\Helpmemore\\Combined\\ISIC_0034301.jpg. Error: predict() missing 1 required positional argument: 'X'\n",
      "Failed to make a prediction for C:\\Users\\serru\\Downloads\\archive (1)\\Helpmemore\\Combined\\ISIC_0034302.jpg. Error: predict() missing 1 required positional argument: 'X'\n",
      "Failed to make a prediction for C:\\Users\\serru\\Downloads\\archive (1)\\Helpmemore\\Combined\\ISIC_0034303.jpg. Error: predict() missing 1 required positional argument: 'X'\n",
      "Failed to make a prediction for C:\\Users\\serru\\Downloads\\archive (1)\\Helpmemore\\Combined\\ISIC_0034304.jpg. Error: predict() missing 1 required positional argument: 'X'\n",
      "Failed to make a prediction for C:\\Users\\serru\\Downloads\\archive (1)\\Helpmemore\\Combined\\ISIC_0034305.jpg. Error: predict() missing 1 required positional argument: 'X'\n",
      "Failed to make a prediction for C:\\Users\\serru\\Downloads\\archive (1)\\Helpmemore\\Combined\\ISIC_0034306.jpg. Error: predict() missing 1 required positional argument: 'X'\n",
      "Failed to make a prediction for C:\\Users\\serru\\Downloads\\archive (1)\\Helpmemore\\Combined\\ISIC_0034307.jpg. Error: predict() missing 1 required positional argument: 'X'\n",
      "Failed to make a prediction for C:\\Users\\serru\\Downloads\\archive (1)\\Helpmemore\\Combined\\ISIC_0034308.jpg. Error: predict() missing 1 required positional argument: 'X'\n",
      "Failed to make a prediction for C:\\Users\\serru\\Downloads\\archive (1)\\Helpmemore\\Combined\\ISIC_0034309.jpg. Error: predict() missing 1 required positional argument: 'X'\n",
      "Failed to make a prediction for C:\\Users\\serru\\Downloads\\archive (1)\\Helpmemore\\Combined\\ISIC_0034310.jpg. Error: predict() missing 1 required positional argument: 'X'\n",
      "Failed to make a prediction for C:\\Users\\serru\\Downloads\\archive (1)\\Helpmemore\\Combined\\ISIC_0034311.jpg. Error: predict() missing 1 required positional argument: 'X'\n",
      "Failed to make a prediction for C:\\Users\\serru\\Downloads\\archive (1)\\Helpmemore\\Combined\\ISIC_0034312.jpg. Error: predict() missing 1 required positional argument: 'X'\n",
      "Failed to make a prediction for C:\\Users\\serru\\Downloads\\archive (1)\\Helpmemore\\Combined\\ISIC_0034313.jpg. Error: predict() missing 1 required positional argument: 'X'\n",
      "Failed to make a prediction for C:\\Users\\serru\\Downloads\\archive (1)\\Helpmemore\\Combined\\ISIC_0034314.jpg. Error: predict() missing 1 required positional argument: 'X'\n",
      "Failed to make a prediction for C:\\Users\\serru\\Downloads\\archive (1)\\Helpmemore\\Combined\\ISIC_0034315.jpg. Error: predict() missing 1 required positional argument: 'X'\n",
      "Failed to make a prediction for C:\\Users\\serru\\Downloads\\archive (1)\\Helpmemore\\Combined\\ISIC_0034316.jpg. Error: predict() missing 1 required positional argument: 'X'\n",
      "Failed to make a prediction for C:\\Users\\serru\\Downloads\\archive (1)\\Helpmemore\\Combined\\ISIC_0034317.jpg. Error: predict() missing 1 required positional argument: 'X'\n",
      "Failed to make a prediction for C:\\Users\\serru\\Downloads\\archive (1)\\Helpmemore\\Combined\\ISIC_0034318.jpg. Error: predict() missing 1 required positional argument: 'X'\n",
      "Failed to make a prediction for C:\\Users\\serru\\Downloads\\archive (1)\\Helpmemore\\Combined\\ISIC_0034319.jpg. Error: predict() missing 1 required positional argument: 'X'\n",
      "Failed to make a prediction for C:\\Users\\serru\\Downloads\\archive (1)\\Helpmemore\\Combined\\ISIC_0034320.jpg. Error: predict() missing 1 required positional argument: 'X'\n"
     ]
    }
   ],
   "source": [
    "import os\n",
    "import numpy as np\n",
    "from PIL import Image\n",
    "from sklearn.preprocessing import StandardScaler\n",
    "from sklearn.svm import SVC\n",
    "from sklearn.pipeline import Pipeline\n",
    "import pickle\n",
    "\n",
    "# Define the path to the folder containing the images\n",
    "image_folder = r'C:\\Users\\serru\\Downloads\\archive (1)\\Helpmemore\\Combined'\n",
    "\n",
    "# Define the path to the pre-trained model\n",
    "model_path = r'C:\\Users\\serru\\OneDrive\\Documents\\Project2\\Project-2-Medical-Imaging\\Pickle\\final_pickles\\LR_mixed.pkl'\n",
    "\n",
    "# Load the pre-trained model\n",
    "with open(model_path, 'rb') as f:\n",
    "    model = pickle.load(f)\n",
    "\n",
    "# Check the type of the model object\n",
    "print(\"Model type:\", type(model))\n",
    "\n",
    "# Define a function to process and predict a single image\n",
    "def process_and_predict(image_path, model):\n",
    "    # Open the image\n",
    "    image = Image.open(image_path).convert('RGB')\n",
    "    \n",
    "    # Resize the image\n",
    "    image = image.resize((256, 256))\n",
    "\n",
    "    # Convert the image to a numpy array\n",
    "    image = np.array(image)\n",
    "\n",
    "    # Flatten the image\n",
    "    image = image.flatten().reshape(1, -1)\n",
    "\n",
    "    # Make a prediction\n",
    "    try:\n",
    "        prediction = model.predict(image)[0]\n",
    "        return prediction\n",
    "    except Exception as e:\n",
    "        print(f\"Failed to make a prediction for {image_path}. Error: {e}\")\n",
    "\n",
    "# Iterate over the images in the folder\n",
    "for filename in os.listdir(image_folder):\n",
    "    # Check if the file is an image\n",
    "    if filename.endswith('.jpg') or filename.endswith('.png'):\n",
    "        image_path = os.path.join(image_folder, filename)\n",
    "        prediction = process_and_predict(image_path, model)\n",
    "\n",
    "        # Print the filename and the predicted class\n",
    "        if prediction is not None:\n",
    "            print(filename, prediction)\n"
   ]
  },
  {
   "cell_type": "code",
   "execution_count": 15,
   "metadata": {},
   "outputs": [
    {
     "name": "stdout",
     "output_type": "stream",
     "text": [
      "['__annotations__', '__class__', '__delattr__', '__dict__', '__dir__', '__doc__', '__eq__', '__format__', '__ge__', '__getattribute__', '__getstate__', '__gt__', '__hash__', '__init__', '__init_subclass__', '__le__', '__lt__', '__module__', '__ne__', '__new__', '__reduce__', '__reduce_ex__', '__repr__', '__setattr__', '__setstate__', '__sizeof__', '__str__', '__subclasshook__', '__weakref__', '_check_feature_names', '_check_n_features', '_estimator_type', '_get_param_names', '_get_tags', '_more_tags', '_parameter_constraints', '_predict_proba_lr', '_repr_html_', '_repr_html_inner', '_repr_mimebundle_', '_validate_data', '_validate_params', 'decision_function', 'densify', 'fit', 'get_params', 'predict', 'predict_log_proba', 'predict_proba', 'score', 'set_params', 'sparsify']\n"
     ]
    }
   ],
   "source": [
    "print(dir(model))\n"
   ]
  },
  {
   "cell_type": "code",
   "execution_count": null,
   "metadata": {},
   "outputs": [],
   "source": []
  }
 ],
 "metadata": {
  "kernelspec": {
   "display_name": "New",
   "language": "python",
   "name": "python3"
  },
  "language_info": {
   "codemirror_mode": {
    "name": "ipython",
    "version": 3
   },
   "file_extension": ".py",
   "mimetype": "text/x-python",
   "name": "python",
   "nbconvert_exporter": "python",
   "pygments_lexer": "ipython3",
   "version": "3.9.16"
  },
  "orig_nbformat": 4
 },
 "nbformat": 4,
 "nbformat_minor": 2
}
