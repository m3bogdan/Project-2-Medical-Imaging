{
 "cells": [
  {
   "cell_type": "code",
   "execution_count": 1,
   "metadata": {},
   "outputs": [],
   "source": [
    "import pandas as pd\n",
    "import os\n",
    "from skimage import io\n",
    "from sklearn.model_selection import train_test_split\n",
    "from sklearn.tree import DecisionTreeClassifier\n",
    "from sklearn.linear_model import LogisticRegression\n",
    "from sklearn.neighbors import KNeighborsClassifier\n",
    "from sklearn.model_selection import cross_val_score\n",
    "from sklearn.metrics import confusion_matrix, precision_score, recall_score, classification_report, f1_score, roc_auc_score\n",
    "import pickle\n",
    "import Functions2"
   ]
  },
  {
   "cell_type": "code",
   "execution_count": 2,
   "metadata": {},
   "outputs": [],
   "source": [
    "# Load the data\n",
    "data_path = r\"C:\\Users\\serru\\OneDrive\\Documents\\Project2\\Project-2-Medical-Imaging\\data\\full_data.csv\"\n",
    "df = pd.read_csv(data_path)\n",
    "\n",
    "# Preprocess the diagnostic column\n",
    "df['diagnostic'] = df['diagnostic'].map({'BCC': 1, 'MEL': 1, 'SCC': 1, 'ACK': 0, 'NEV': 0, 'SEK': 0})"
   ]
  },
  {
   "cell_type": "code",
   "execution_count": 9,
   "metadata": {},
   "outputs": [],
   "source": [
    "# Define the function to extract features\n",
    "def extract_features(folder_path):\n",
    "    feature_1 = []\n",
    "    feature_2 = []\n",
    "    feature_3 = []\n",
    "    feature_4 = []\n",
    "    feature_5 = []\n",
    "    feature_6 = []\n",
    "    feature_7 = []\n",
    "\n",
    "    for filename in os.listdir(folder_path):\n",
    "        if filename.endswith('.jpg') or filename.endswith('.png'):\n",
    "            image_path = os.path.join(folder_path, filename)\n",
    "            original = io.imread(image_path)\n",
    "\n",
    "            # Ignore the alpha channel (e.g. transparency)\n",
    "            if original.shape[-1] == 4:\n",
    "                original = original[..., :3]\n",
    "\n",
    "            feature_1.append(Functions2.measure_pigment_network(original))\n",
    "            feature_2.append(Functions2.measure_blue_veil(original))\n",
    "            feature_3.append(Functions2.measure_vascular(original))\n",
    "            feature_4.append(Functions2.measure_globules(original))\n",
    "            feature_5.append(Functions2.measure_streaks(original))\n",
    "            feature_6.append(Functions2.measure_irregular_pigmentation(original))\n",
    "            feature_7.append(Functions2.measure_regression(original))\n",
    "\n",
    "    return feature_1, feature_2, feature_3, feature_4, feature_5, feature_6, feature_7"
   ]
  },
  {
   "cell_type": "code",
   "execution_count": 10,
   "metadata": {},
   "outputs": [
    {
     "ename": "ZeroDivisionError",
     "evalue": "float division by zero",
     "output_type": "error",
     "traceback": [
      "\u001b[1;31m---------------------------------------------------------------------------\u001b[0m",
      "\u001b[1;31mZeroDivisionError\u001b[0m                         Traceback (most recent call last)",
      "Cell \u001b[1;32mIn[10], line 5\u001b[0m\n\u001b[0;32m      2\u001b[0m folder_path_in \u001b[39m=\u001b[39m \u001b[39mr\u001b[39m\u001b[39m\"\u001b[39m\u001b[39mC:\u001b[39m\u001b[39m\\\u001b[39m\u001b[39mUsers\u001b[39m\u001b[39m\\\u001b[39m\u001b[39mserru\u001b[39m\u001b[39m\\\u001b[39m\u001b[39mOneDrive\u001b[39m\u001b[39m\\\u001b[39m\u001b[39mDocuments\u001b[39m\u001b[39m\\\u001b[39m\u001b[39mProject2\u001b[39m\u001b[39m\\\u001b[39m\u001b[39mProject-2-Medical-Imaging\u001b[39m\u001b[39m\\\u001b[39m\u001b[39mdata\u001b[39m\u001b[39m\\\u001b[39m\u001b[39mColorMask\u001b[39m\u001b[39m\\\u001b[39m\u001b[39mTraining\u001b[39m\u001b[39m\"\u001b[39m\n\u001b[0;32m      4\u001b[0m \u001b[39m# Extract features from the images\u001b[39;00m\n\u001b[1;32m----> 5\u001b[0m feature_1, feature_2, feature_3, feature_4, feature_5, feature_6, feature_7 \u001b[39m=\u001b[39m extract_features(folder_path_in)\n",
      "Cell \u001b[1;32mIn[9], line 24\u001b[0m, in \u001b[0;36mextract_features\u001b[1;34m(folder_path)\u001b[0m\n\u001b[0;32m     22\u001b[0m feature_3\u001b[39m.\u001b[39mappend(Functions2\u001b[39m.\u001b[39mmeasure_vascular(original))\n\u001b[0;32m     23\u001b[0m feature_4\u001b[39m.\u001b[39mappend(Functions2\u001b[39m.\u001b[39mmeasure_globules(original))\n\u001b[1;32m---> 24\u001b[0m feature_5\u001b[39m.\u001b[39mappend(Functions2\u001b[39m.\u001b[39;49mmeasure_streaks(original))\n\u001b[0;32m     25\u001b[0m feature_6\u001b[39m.\u001b[39mappend(Functions2\u001b[39m.\u001b[39mmeasure_irregular_pigmentation(original))\n\u001b[0;32m     26\u001b[0m feature_7\u001b[39m.\u001b[39mappend(Functions2\u001b[39m.\u001b[39mmeasure_regression(original))\n",
      "File \u001b[1;32mc:\\Users\\serru\\OneDrive\\Documents\\Project2\\Project-2-Medical-Imaging\\src\\Functions2.py:71\u001b[0m, in \u001b[0;36mmeasure_streaks\u001b[1;34m(image)\u001b[0m\n\u001b[0;32m     69\u001b[0m lesion_area \u001b[39m=\u001b[39m cv2\u001b[39m.\u001b[39mcontourArea(contours[\u001b[39m0\u001b[39m])\n\u001b[0;32m     70\u001b[0m border_perimeter \u001b[39m=\u001b[39m cv2\u001b[39m.\u001b[39marcLength(contours[\u001b[39m0\u001b[39m], \u001b[39mTrue\u001b[39;00m)\n\u001b[1;32m---> 71\u001b[0m irregularity \u001b[39m=\u001b[39m (border_perimeter \u001b[39m*\u001b[39;49m\u001b[39m*\u001b[39;49m \u001b[39m2\u001b[39;49m) \u001b[39m/\u001b[39;49m (\u001b[39m4\u001b[39;49m \u001b[39m*\u001b[39;49m np\u001b[39m.\u001b[39;49mpi \u001b[39m*\u001b[39;49m lesion_area)\n\u001b[0;32m     73\u001b[0m \u001b[39mreturn\u001b[39;00m irregularity\n",
      "\u001b[1;31mZeroDivisionError\u001b[0m: float division by zero"
     ]
    }
   ],
   "source": [
    "# Define the folder path for image processing\n",
    "folder_path_in = r\"C:\\Users\\serru\\OneDrive\\Documents\\Project2\\Project-2-Medical-Imaging\\data\\ColorMask\\Training\"\n",
    "\n",
    "# Extract features from the images\n",
    "feature_1, feature_2, feature_3, feature_4, feature_5, feature_6, feature_7 = extract_features(folder_path_in)"
   ]
  },
  {
   "cell_type": "code",
   "execution_count": null,
   "metadata": {},
   "outputs": [],
   "source": [
    "\n",
    "# Create a DataFrame for the features\n",
    "features_df = pd.DataFrame()\n",
    "features_df[\"img_id\"] = [filename for filename in os.listdir(folder_path_in) if filename.endswith(('.jpg', '.png'))]\n",
    "features_df[\"1: pigment network\"] = feature_1\n",
    "features_df[\"2: Blue veil\"] = feature_2\n",
    "features_df[\"3: Vascular\"] = feature_3\n",
    "features_df[\"4: Globules\"] = feature_4\n",
    "features_df[\"5: Streaks\"] = feature_5\n",
    "features_df[\"6: Pigmentation\"] = feature_6\n",
    "features_df[\"7: Regression\"] = feature_7\n",
    "\n",
    "# Merge the features DataFrame with the diagnostic column from the original DataFrame\n",
    "df_merged = pd.merge(df[['img_id', 'diagnostic']], features_df, on='img_id', how='inner')\n",
    "\n",
    "# Split the data into training and testing sets\n",
    "X = df_merged.drop(['img_id', 'diagnostic'], axis=1)\n",
    "Y = df_merged['diagnostic']\n",
    "X_train, X_test, Y_train, Y_test = train_test_split(X, Y, test_size=0.5)\n",
    "\n",
    "# Train the decision tree classifier\n",
    "classifier = DecisionTreeClassifier()\n",
    "classifier.fit(X_train, Y_train)\n",
    "\n",
    "# Make predictions on the test set\n",
    "prediction = classifier.predict(X_test)\n",
    "\n",
    "# Evaluate the decision tree classifier\n",
    "cm = confusion_matrix(Y_test, prediction)\n",
    "precision = precision_score(Y_test, prediction)\n",
    "recall = recall_score(Y_test, prediction)\n",
    "f1 = f1_score(Y_test, prediction)\n",
    "auc_roc = roc_auc_score(Y_test, prediction)\n",
    "classification_rep = classification_report(Y_test, prediction)\n",
    "\n",
    "# Print the evaluation metrics\n",
    "print(\"Confusion Matrix:\")\n",
    "print(cm)\n",
    "print(\"Precision:\", precision)\n",
    "print(\"Recall:\", recall)\n",
    "print(\"F1 Score:\", f1)\n",
    "print(\"AUC-ROC Score:\", auc_roc)\n",
    "print(\"Classification Report:\")\n",
    "print(classification_rep)\n",
    "\n",
    "# Save the trained classifier\n",
    "pickle.dump(classifier, open(\"Pickle/DecisionTree.pkl\", \"wb\"))\n",
    "\n",
    "# Load the trained model\n",
    "loaded_model = pickle.load(open(\"CPickle/DecisionTree.pkl\", \"rb\"))\n",
    "\n",
    "# Assuming you have a new image to predict\n",
    "image_path = \"C:/Users/annam/Desktop/Vascular/Masked/image5.png\"\n",
    "\n",
    "# Extract features from the new image\n",
    "new_image_features = extract_features(image_path)\n",
    "\n",
    "# Make the prediction using the loaded model\n",
    "prediction = loaded_model.predict(new_image_features)\n",
    "\n",
    "# Convert the numerical prediction back to the corresponding label\n",
    "predicted_label = 'malignant' if prediction[0] == 1 else 'benign'\n",
    "\n",
    "# Print the predicted label\n",
    "print(\"Predicted Label:\", predicted_label)"
   ]
  }
 ],
 "metadata": {
  "kernelspec": {
   "display_name": "New",
   "language": "python",
   "name": "python3"
  },
  "language_info": {
   "codemirror_mode": {
    "name": "ipython",
    "version": 3
   },
   "file_extension": ".py",
   "mimetype": "text/x-python",
   "name": "python",
   "nbconvert_exporter": "python",
   "pygments_lexer": "ipython3",
   "version": "3.9.16"
  },
  "orig_nbformat": 4
 },
 "nbformat": 4,
 "nbformat_minor": 2
}
