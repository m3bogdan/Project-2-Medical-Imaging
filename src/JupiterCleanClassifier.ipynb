{
 "cells": [
  {
   "cell_type": "code",
   "execution_count": 10,
   "metadata": {},
   "outputs": [],
   "source": [
    "import pandas as pd\n",
    "import os\n",
    "from skimage import io\n",
    "from sklearn.model_selection import train_test_split\n",
    "from sklearn.tree import DecisionTreeClassifier\n",
    "from sklearn.linear_model import LogisticRegression\n",
    "from sklearn.neighbors import KNeighborsClassifier\n",
    "from sklearn.model_selection import cross_val_score\n",
    "from sklearn.metrics import confusion_matrix, precision_score, recall_score, classification_report, f1_score, roc_auc_score\n",
    "import pickle\n",
    "import Functions2\n",
    "from sklearn.linear_model import LogisticRegression\n",
    "from sklearn.neighbors import KNeighborsClassifier\n",
    "from sklearn.metrics import confusion_matrix, precision_score, recall_score, f1_score, roc_auc_score, classification_report"
   ]
  },
  {
   "cell_type": "code",
   "execution_count": 2,
   "metadata": {},
   "outputs": [],
   "source": [
    "# Load the data\n",
    "data_path = r\"C:\\Users\\serru\\OneDrive\\Documents\\Project2\\Project-2-Medical-Imaging\\data\\full_data.csv\"\n",
    "df = pd.read_csv(data_path)\n",
    "\n",
    "# Preprocess the diagnostic column\n",
    "df['diagnostic'] = df['diagnostic'].map({'BCC': 1, 'MEL': 1, 'SCC': 1, 'ACK': 0, 'NEV': 0, 'SEK': 0})"
   ]
  },
  {
   "cell_type": "code",
   "execution_count": 3,
   "metadata": {},
   "outputs": [],
   "source": [
    "# Define the function to extract features\n",
    "def extract_features(folder_path):\n",
    "    feature_1 = []\n",
    "    feature_2 = []\n",
    "    feature_3 = []\n",
    "    feature_4 = []\n",
    "    feature_5 = []\n",
    "    feature_6 = []\n",
    "    feature_7 = []\n",
    "\n",
    "    for filename in os.listdir(folder_path):\n",
    "        if filename.endswith('.jpg') or filename.endswith('.png'):\n",
    "            image_path = os.path.join(folder_path, filename)\n",
    "            original = io.imread(image_path)\n",
    "\n",
    "            # Ignore the alpha channel (e.g. transparency)\n",
    "            if original.shape[-1] == 4:\n",
    "                original = original[..., :3]\n",
    "\n",
    "            feature_1.append(Functions2.measure_pigment_network(original))\n",
    "            feature_2.append(Functions2.measure_blue_veil(original))\n",
    "            feature_3.append(Functions2.measure_vascular(original))\n",
    "            feature_4.append(Functions2.measure_globules(original))\n",
    "            feature_5.append(Functions2.measure_streaks(original))\n",
    "            feature_6.append(Functions2.measure_irregular_pigmentation(original))\n",
    "            feature_7.append(Functions2.measure_regression(original))\n",
    "\n",
    "    return feature_1, feature_2, feature_3, feature_4, feature_5, feature_6, feature_7"
   ]
  },
  {
   "cell_type": "code",
   "execution_count": 4,
   "metadata": {},
   "outputs": [],
   "source": [
    "# Define the folder path for image processing\n",
    "folder_path_in = r\"C:\\Users\\serru\\OneDrive\\Documents\\Project2\\Project-2-Medical-Imaging\\data\\ColorMask\\Training\"\n",
    "\n",
    "# Extract features from the images\n",
    "feature_1, feature_2, feature_3, feature_4, feature_5, feature_6, feature_7 = extract_features(folder_path_in)"
   ]
  },
  {
   "cell_type": "code",
   "execution_count": 5,
   "metadata": {},
   "outputs": [],
   "source": [
    "# Create a DataFrame for the features\n",
    "features_df = pd.DataFrame()\n",
    "features_df[\"img_id\"] = [filename for filename in os.listdir(folder_path_in) if filename.endswith(('.jpg', '.png'))]\n",
    "features_df[\"1: pigment network\"] = feature_1\n",
    "features_df[\"2: Blue veil\"] = feature_2\n",
    "features_df[\"3: Vascular\"] = feature_3\n",
    "features_df[\"4: Globules\"] = feature_4\n",
    "features_df[\"5: Streaks\"] = feature_5\n",
    "features_df[\"6: Pigmentation\"] = feature_6\n",
    "features_df[\"7: Regression\"] = feature_7\n",
    "\n",
    "# Merge the features DataFrame with the diagnostic column from the original DataFrame\n",
    "df_merged = pd.merge(df[['img_id', 'diagnostic']], features_df, on='img_id', how='inner')"
   ]
  },
  {
   "cell_type": "code",
   "execution_count": 6,
   "metadata": {},
   "outputs": [],
   "source": [
    "# Split the data into training and testing sets\n",
    "X = df_merged.drop(['img_id', 'diagnostic'], axis=1)\n",
    "Y = df_merged['diagnostic']\n",
    "X_train, X_test, Y_train, Y_test = train_test_split(X, Y, test_size=0.5)"
   ]
  },
  {
   "cell_type": "code",
   "execution_count": 11,
   "metadata": {},
   "outputs": [
    {
     "name": "stdout",
     "output_type": "stream",
     "text": [
      "Logistic Regression:\n",
      "Confusion Matrix:\n",
      "[[13  9]\n",
      " [ 6 16]]\n",
      "Precision: 0.64\n",
      "Recall: 0.7272727272727273\n",
      "F1 Score: 0.6808510638297872\n",
      "AUC-ROC Score: 0.659090909090909\n",
      "Classification Report:\n",
      "              precision    recall  f1-score   support\n",
      "\n",
      "           0       0.68      0.59      0.63        22\n",
      "           1       0.64      0.73      0.68        22\n",
      "\n",
      "    accuracy                           0.66        44\n",
      "   macro avg       0.66      0.66      0.66        44\n",
      "weighted avg       0.66      0.66      0.66        44\n",
      "\n"
     ]
    }
   ],
   "source": [
    "# Logistic Regression\n",
    "logreg_classifier = LogisticRegression()\n",
    "logreg_classifier.fit(X_train, Y_train)\n",
    "logreg_prediction = logreg_classifier.predict(X_test)\n",
    "\n",
    "# Evaluate Logistic Regression\n",
    "logreg_cm = confusion_matrix(Y_test, logreg_prediction)\n",
    "logreg_precision = precision_score(Y_test, logreg_prediction)\n",
    "logreg_recall = recall_score(Y_test, logreg_prediction)\n",
    "logreg_f1 = f1_score(Y_test, logreg_prediction)\n",
    "logreg_auc_roc = roc_auc_score(Y_test, logreg_prediction)\n",
    "logreg_classification_rep = classification_report(Y_test, logreg_prediction)\n",
    "\n",
    "# Print Logistic Regression evaluation metrics\n",
    "print(\"Logistic Regression:\")\n",
    "print(\"Confusion Matrix:\")\n",
    "print(logreg_cm)\n",
    "print(\"Precision:\", logreg_precision)\n",
    "print(\"Recall:\", logreg_recall)\n",
    "print(\"F1 Score:\", logreg_f1)\n",
    "print(\"AUC-ROC Score:\", logreg_auc_roc)\n",
    "print(\"Classification Report:\")\n",
    "print(logreg_classification_rep)"
   ]
  },
  {
   "cell_type": "code",
   "execution_count": 27,
   "metadata": {},
   "outputs": [],
   "source": [
    "# Save LR model\n",
    "with open(r'C:\\Users\\serru\\OneDrive\\Documents\\Project2\\Project-2-Medical-Imaging\\Pickle\\logreg_model.pkl', 'wb') as file:\n",
    "    pickle.dump(logreg_classifier, file)\n",
    "\n",
    "# Save KNN model\n",
    "with open(r'C:\\Users\\serru\\OneDrive\\Documents\\Project2\\Project-2-Medical-Imaging\\Pickle\\knn_model.pkl', 'wb') as file:\n",
    "    pickle.dump(knn_classifier, file)"
   ]
  },
  {
   "cell_type": "code",
   "execution_count": 40,
   "metadata": {},
   "outputs": [
    {
     "name": "stdout",
     "output_type": "stream",
     "text": [
      "                  img_id  diagnostic\n",
      "0    PAT_109_868_723.png           1\n",
      "1    PAT_236_361_180.png           0\n",
      "2      PAT_26_37_865.png           0\n",
      "3    PAT_270_417_257.png           1\n",
      "4   PAT_333_1469_499.png           0\n",
      "5      PAT_38_54_234.png           1\n",
      "6    PAT_398_799_163.png           0\n",
      "7       PAT_42_58_13.png           1\n",
      "8      PAT_56_86_479.png           1\n",
      "9      PAT_59_46_537.png           0\n",
      "10   PAT_76_1039_269.png           1\n",
      "11    PAT_998_17_641.png           0\n"
     ]
    }
   ],
   "source": [
    "# Predict the diagnostic for the test set\n",
    "test_path = r\"C:\\Users\\serru\\OneDrive\\Documents\\Project2\\Project-2-Medical-Imaging\\data\\ColorMask\\Test\"\n",
    "test_feature_1, test_feature_2, test_feature_3, test_feature_4, test_feature_5, test_feature_6, test_feature_7 = extract_features(test_path)\n",
    "test_features_df = pd.DataFrame()\n",
    "test_features_df[\"img_id\"] = [filename for filename in os.listdir(test_path) if filename.endswith(('.jpg', '.png'))]\n",
    "test_features_df[\"1: pigment network\"] = test_feature_1\n",
    "test_features_df[\"2: Blue veil\"] = test_feature_2\n",
    "test_features_df[\"3: Vascular\"] = test_feature_3\n",
    "test_features_df[\"4: Globules\"] = test_feature_4\n",
    "test_features_df[\"5: Streaks\"] = test_feature_5\n",
    "test_features_df[\"6: Pigmentation\"] = test_feature_6\n",
    "test_features_df[\"7: Regression\"] = test_feature_7\n",
    "\n",
    "# Load the model\n",
    "with open(r'C:\\Users\\serru\\OneDrive\\Documents\\Project2\\Project-2-Medical-Imaging\\Pickle\\logreg_model.pkl', 'rb') as file:\n",
    "    logreg_model = pickle.load(file)\n",
    "\n",
    "# Predict the diagnostic for the test set\n",
    "test_X = test_features_df.drop(['img_id'], axis=1)\n",
    "test_Y = logreg_model.predict(test_X)\n",
    "\n",
    "# Create a DataFrame for the predictions\n",
    "test_predictions_df = pd.DataFrame()\n",
    "test_predictions_df[\"img_id\"] = test_features_df[\"img_id\"]\n",
    "test_predictions_df[\"diagnostic\"] = test_Y\n",
    "\n",
    "# Print the predictions\n",
    "print(test_predictions_df)"
   ]
  }
 ],
 "metadata": {
  "kernelspec": {
   "display_name": "New",
   "language": "python",
   "name": "python3"
  },
  "language_info": {
   "codemirror_mode": {
    "name": "ipython",
    "version": 3
   },
   "file_extension": ".py",
   "mimetype": "text/x-python",
   "name": "python",
   "nbconvert_exporter": "python",
   "pygments_lexer": "ipython3",
   "version": "3.9.16"
  },
  "orig_nbformat": 4
 },
 "nbformat": 4,
 "nbformat_minor": 2
}
