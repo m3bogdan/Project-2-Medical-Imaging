{
 "cells": [
  {
   "cell_type": "code",
   "execution_count": 23,
   "id": "1382c215",
   "metadata": {},
   "outputs": [],
   "source": [
    "import cv2\n",
    "import numpy as np\n",
    "import os\n",
    "import statistics\n",
    "import matplotlib as plt\n",
    "# Load the resized picture and mask\n",
    "#picture = cv2.imread(r\"C:/Users/45911/Desktop/DS/Semester2/First_year_project/Project2/test_function/Blue_vail\")"
   ]
  },
  {
   "cell_type": "code",
   "execution_count": null,
   "id": "57130575",
   "metadata": {},
   "outputs": [],
   "source": []
  },
  {
   "cell_type": "code",
   "execution_count": 7,
   "id": "8f1a2f39",
   "metadata": {},
   "outputs": [],
   "source": [
    "\n"
   ]
  },
  {
   "cell_type": "code",
   "execution_count": null,
   "id": "54f4cfa6",
   "metadata": {},
   "outputs": [],
   "source": []
  },
  {
   "cell_type": "code",
   "execution_count": 29,
   "id": "1b95fd58",
   "metadata": {},
   "outputs": [
    {
     "name": "stdout",
     "output_type": "stream",
     "text": [
      "Results from directory 1: [4731, 943, 4623, 6015, 1401, 3895, 7070, 13902, 618, 1818, 4023, 165, 12, 5043, 403, 10861, 7558, 1121, 90, 501, 11683, 5335, 7715, 1, 1697, 2588, 142, 1630, 2, 2316, 27, 334, 240, 61, 2, 11046, 23, 1964, 3794, 1028, 1870, 362, 9647, 9474, 2910]\n",
      "Results from directory 2: [57741, 2563, 30, 228, 237, 3279, 1465, 7722, 12, 3966, 1616, 1537, 928, 6553, 1383, 23, 0, 55, 3967, 11425, 16506, 3483, 1980, 2407, 3648, 22252, 3847, 879, 4214, 18, 3961, 12162, 278, 7792, 2717, 1761, 4, 9046, 3392, 35, 65378, 2544, 87, 2978, 1030]\n"
     ]
    }
   ],
   "source": [
    "import cv2\n",
    "import numpy as np\n",
    "import os\n",
    "\n",
    "def measure_blue_veil(image):\n",
    "    height_picture, width_picture, _ = image.shape\n",
    "    total_pixels = height_picture * width_picture\n",
    "    count = 0\n",
    "\n",
    "    for y in range(height_picture):\n",
    "        for x in range(width_picture):\n",
    "            b_picture = float(image[y, x][0])  # Blue channel value\n",
    "            g_picture = float(image[y, x][1])  # Green channel value\n",
    "            r_picture = float(image[y, x][2])  # Red channel value\n",
    "\n",
    "            total = r_picture + g_picture + b_picture\n",
    "\n",
    "            if b_picture > 60 and (r_picture - 46 < g_picture) and (g_picture < r_picture + 15):\n",
    "                count += 1\n",
    "    return count\n",
    "\n",
    "    #if count > 2900:\n",
    "        #return 1\n",
    "    #else:\n",
    "        #return 0\n",
    "\n",
    "# Directories containing the pictures\n",
    "directory1 = r\"C:/Users/45911/Desktop/DS/Semester2/First_year_project/Project2/test_function/Cancer\"\n",
    "directory2 = r\"C:/Users/45911/Desktop/DS/Semester2/First_year_project/Project2/test_function/No_cancer\"\n",
    "\n",
    "# Lists to store the results\n",
    "blue_veil = []\n",
    "no_blue_veil= []\n",
    "\n",
    "# Function to process a directory\n",
    "def process_directory(directory, results):\n",
    "    # Loop through all files in the directory\n",
    "    for filename in os.listdir(directory):\n",
    "        # Check if the file is a picture\n",
    "        if filename.endswith(\".jpg\") or filename.endswith(\".png\"):\n",
    "            # Load the picture\n",
    "            picture_path = os.path.join(directory, filename)\n",
    "            picture = cv2.imread(picture_path)\n",
    "\n",
    "            # Process the picture using measure_blue_veil function\n",
    "            result = measure_blue_veil(picture)\n",
    "\n",
    "            # Append the result to the list\n",
    "            results.append(result)\n",
    "\n",
    "# Process the first directory\n",
    "process_directory(directory1, blue_veil)\n",
    "\n",
    "# Process the second directory\n",
    "process_directory(directory2, no_blue_veil)\n",
    "\n",
    "# Print the results\n",
    "print(\"Results from directory 1:\", blue_veil)\n",
    "print(\"Results from directory 2:\", no_blue_veil)\n"
   ]
  },
  {
   "cell_type": "code",
   "execution_count": 30,
   "id": "8e9e2ddb",
   "metadata": {},
   "outputs": [
    {
     "name": "stdout",
     "output_type": "stream",
     "text": [
      "The standart deviation of blue veil is : 3805.62\n",
      "The standart deviation of no  blue veil is : 12945.89\n",
      "Mean of results1 (Blue Veil): 3348.53\n",
      "Mean of results2 (No Blue Veil): 6158.42\n"
     ]
    }
   ],
   "source": [
    "# Calculate the means\n",
    "mean_results1 = np.mean(blue_veil)\n",
    "mean_results2 = np.mean(no_blue_veil)\n",
    "standart_devresult1 = round(statistics.stdev(blue_veil),2)\n",
    "print(f\"The standart deviation of blue veil is : {standart_devresult1}\")\n",
    "standart_devresult2 = round(statistics.stdev(no_blue_veil),2)\n",
    "print(f\"The standart deviation of no  blue veil is : {standart_devresult2}\")\n",
    "# Round the means to 2 decimal places\n",
    "rounded_mean_results1 = round(mean_results1, 2)\n",
    "rounded_mean_results2 = round(mean_results2, 2)\n",
    "\n",
    "\n",
    "# Print the rounded means\n",
    "print(\"Mean of results1 (Blue Veil):\", rounded_mean_results1)\n",
    "print(\"Mean of results2 (No Blue Veil):\", rounded_mean_results2)\n"
   ]
  },
  {
   "cell_type": "code",
   "execution_count": 32,
   "id": "36676ef7",
   "metadata": {},
   "outputs": [
    {
     "data": {
      "image/png": "[encoded data removed]",
      "text/plain": [
       "<Figure size 640x480 with 1 Axes>"
      ]
     },
     "metadata": {},
     "output_type": "display_data"
    }
   ],
   "source": [
    "import matplotlib.pyplot as plt\n",
    "\n",
    "# Data\n",
    "means = [5121.57, 2824.19]\n",
    "std_devs = [3537.75, 4076.61]\n",
    "categories = ['Cancer', 'No cancer']\n",
    "\n",
    "# Plotting\n",
    "plt.errorbar(categories, means, yerr=std_devs, fmt='o')\n",
    "plt.xlabel('Categories')\n",
    "plt.ylabel('Values')\n",
    "plt.title('Means with Standard Deviations')\n",
    "plt.grid(True)\n",
    "\n",
    "# Display the plot\n",
    "plt.show()\n"
   ]
  },
  {
   "cell_type": "code",
   "execution_count": 36,
   "id": "d53036ac",
   "metadata": {},
   "outputs": [
    {
     "name": "stdout",
     "output_type": "stream",
     "text": [
      "Minimum value in results1 (Blue Veil): 165\n"
     ]
    }
   ],
   "source": [
    "# Find the minimum value in results1 (blue veil)\n",
    "min_value_results1 = min(results1)\n",
    "\n",
    "# Print the minimum value\n",
    "print(\"Minimum value in results1 (Blue Veil):\", min_value_results1)\n"
   ]
  },
  {
   "cell_type": "code",
   "execution_count": 11,
   "id": "3998a410",
   "metadata": {},
   "outputs": [],
   "source": [
    "def measure_pigment_network(image): #feature 1\n",
    "    \n",
    "    # Convert the image to the LAB color space\n",
    "    lab_image = cv2.cvtColor(image, cv2.COLOR_BGR2LAB)\n",
    "\n",
    "    # Extract the L, A, and B channels from the LAB image\n",
    "    l_channel, a_channel, b_channel = cv2.split(lab_image)\n",
    "\n",
    "    # Apply contrast stretching to enhance the L channel\n",
    "    enhanced_l_channel = cv2.equalizeHist(l_channel)\n",
    "\n",
    "    # Perform thresholding on the enhanced L channel to obtain a binary mask\n",
    "    _, binary_mask = cv2.threshold(enhanced_l_channel, 0, 255, cv2.THRESH_BINARY + cv2.THRESH_OTSU)\n",
    "\n",
    "    # Apply morphological operations to remove noise and refine the binary mask\n",
    "    kernel = cv2.getStructuringElement(cv2.MORPH_ELLIPSE, (5, 5))\n",
    "    morphological_mask = cv2.morphologyEx(binary_mask, cv2.MORPH_OPEN, kernel)\n",
    "\n",
    "    # Convert the morphological mask to a color image\n",
    "    color_mask = cv2.cvtColor(morphological_mask, cv2.COLOR_GRAY2BGR)\n",
    "\n",
    "    # Combine the color mask with the original image to highlight the regions of interest\n",
    "    result = cv2.bitwise_and(image, color_mask)\n",
    "\n",
    "    # Calculate the percentage of pigment network coverage\n",
    "    total_pixels = np.prod(binary_mask.shape[:2])\n",
    "    pigment_pixels = np.count_nonzero(binary_mask)\n",
    "    coverage_percentage = (pigment_pixels / total_pixels) * 100\n",
    "\n",
    "    #print(\"Pigment Network Coverage: {:.2f}%\".format(coverage_percentage))\n",
    "    #if coverage_percentage > 50:\n",
    "        #return 1\n",
    "    #else:\n",
    "        #return 0\n",
    "    return coverage_percentage"
   ]
  },
  {
   "cell_type": "code",
   "execution_count": null,
   "id": "cec28a74",
   "metadata": {},
   "outputs": [],
   "source": [
    "# Directories containing the pictures\n",
    "\n",
    "directory3 = r\"C:/Users/45911/Desktop/DS/Semester2/First_year_project/Project2/test_function/pigment_network\"\n",
    "directory4 = r\"C:/Users/45911/Desktop/DS/Semester2/First_year_project/Project2/test_function/no_pigment_network\"\n",
    "\n",
    "# Lists to store the results\n",
    "pigment_network = []\n",
    "no_pigment_network= []\n",
    "\n",
    "# Function to process a directory\n",
    "def process_directory(directory, results):\n",
    "    # Loop through all files in the directory\n",
    "    for filename in os.listdir(directory):\n",
    "        # Check if the file is a picture\n",
    "        if filename.endswith(\".jpg\") or filename.endswith(\".png\"):\n",
    "            # Load the picture\n",
    "            picture_path = os.path.join(directory, filename)\n",
    "            picture = cv2.imread(picture_path)\n",
    "\n",
    "            # Process the picture using measure_blue_veil function\n",
    "            result = measure_blue_veil(picture)\n",
    "\n",
    "            # Append the result to the list\n",
    "            results.append(result)\n",
    "\n",
    "# Process the first directory\n",
    "process_directory(directory1, blue_veil)\n",
    "\n",
    "# Process the second directory\n",
    "process_directory(directory2, no_blue_veil)\n",
    "\n",
    "# Print the results\n",
    "print(\"Results from directory 1:\", blue_veil)\n",
    "print(\"Results from directory 2:\", no_blue_veil)\n"
   ]
  }
 ],
 "metadata": {
  "kernelspec": {
   "display_name": "Python 3 (ipykernel)",
   "language": "python",
   "name": "python3"
  },
  "language_info": {
   "codemirror_mode": {
    "name": "ipython",
    "version": 3
   },
   "file_extension": ".py",
   "mimetype": "text/x-python",
   "name": "python",
   "nbconvert_exporter": "python",
   "pygments_lexer": "ipython3",
   "version": "3.9.12"
  }
 },
 "nbformat": 4,
 "nbformat_minor": 5
}
