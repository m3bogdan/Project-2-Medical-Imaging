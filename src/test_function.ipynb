{
 "cells": [
  {
   "cell_type": "code",
   "execution_count": 73,
   "id": "a034464c",
   "metadata": {},
   "outputs": [],
   "source": [
    "import cv2\n",
    "import numpy as np\n",
    "import os\n",
    "import statistics\n",
    "import matplotlib as plt\n",
    "# Load the resized picture and mask\n",
    "#picture = cv2.imread(r\"C:/Users/45911/Desktop/DS/Semester2/First_year_project/Project2/test_function/Blue_vail\")"
   ]
  },
  {
   "cell_type": "code",
   "execution_count": null,
   "id": "9be92c9f",
   "metadata": {},
   "outputs": [],
   "source": []
  },
  {
   "cell_type": "code",
   "execution_count": 7,
   "id": "b1410d87",
   "metadata": {},
   "outputs": [],
   "source": [
    "\n"
   ]
  },
  {
   "cell_type": "code",
   "execution_count": null,
   "id": "aa984052",
   "metadata": {},
   "outputs": [],
   "source": []
  },
  {
   "cell_type": "code",
   "execution_count": 29,
   "id": "75cbbb9e",
   "metadata": {},
   "outputs": [
    {
     "name": "stdout",
     "output_type": "stream",
     "text": [
      "Results from directory 1: [4731, 943, 4623, 6015, 1401, 3895, 7070, 13902, 618, 1818, 4023, 165, 12, 5043, 403, 10861, 7558, 1121, 90, 501, 11683, 5335, 7715, 1, 1697, 2588, 142, 1630, 2, 2316, 27, 334, 240, 61, 2, 11046, 23, 1964, 3794, 1028, 1870, 362, 9647, 9474, 2910]\n",
      "Results from directory 2: [57741, 2563, 30, 228, 237, 3279, 1465, 7722, 12, 3966, 1616, 1537, 928, 6553, 1383, 23, 0, 55, 3967, 11425, 16506, 3483, 1980, 2407, 3648, 22252, 3847, 879, 4214, 18, 3961, 12162, 278, 7792, 2717, 1761, 4, 9046, 3392, 35, 65378, 2544, 87, 2978, 1030]\n"
     ]
    }
   ],
   "source": [
    "import cv2\n",
    "import numpy as np\n",
    "import os\n",
    "\n",
    "def measure_blue_veil(image):\n",
    "    height_picture, width_picture, _ = image.shape\n",
    "    total_pixels = height_picture * width_picture\n",
    "    count = 0\n",
    "\n",
    "    for y in range(height_picture):\n",
    "        for x in range(width_picture):\n",
    "            b_picture = float(image[y, x][0])  # Blue channel value\n",
    "            g_picture = float(image[y, x][1])  # Green channel value\n",
    "            r_picture = float(image[y, x][2])  # Red channel value\n",
    "\n",
    "            total = r_picture + g_picture + b_picture\n",
    "\n",
    "            if b_picture > 60 and (r_picture - 46 < g_picture) and (g_picture < r_picture + 15):\n",
    "                count += 1\n",
    "    return count\n",
    "\n",
    "    #if count > 2900:\n",
    "        #return 1\n",
    "    #else:\n",
    "        #return 0\n",
    "\n",
    "# Directories containing the pictures\n",
    "directory1 = r\"C:/Users/45911/Desktop/DS/Semester2/First_year_project/Project2/test_function/Cancer\"\n",
    "directory2 = r\"C:/Users/45911/Desktop/DS/Semester2/First_year_project/Project2/test_function/No_cancer\"\n",
    "\n",
    "# Lists to store the results\n",
    "blue_veil = []\n",
    "no_blue_veil= []\n",
    "\n",
    "# Function to process a directory\n",
    "def process_directory(directory, results):\n",
    "    # Loop through all files in the directory\n",
    "    for filename in os.listdir(directory):\n",
    "        # Check if the file is a picture\n",
    "        if filename.endswith(\".jpg\") or filename.endswith(\".png\"):\n",
    "            # Load the picture\n",
    "            picture_path = os.path.join(directory, filename)\n",
    "            picture = cv2.imread(picture_path)\n",
    "\n",
    "            # Process the picture using measure_blue_veil function\n",
    "            result = measure_blue_veil(picture)\n",
    "\n",
    "            # Append the result to the list\n",
    "            results.append(result)\n",
    "\n",
    "# Process the first directory\n",
    "process_directory(directory1, blue_veil)\n",
    "\n",
    "# Process the second directory\n",
    "process_directory(directory2, no_blue_veil)\n",
    "\n",
    "# Print the results\n",
    "print(\"Results from directory 1:\", blue_veil)\n",
    "print(\"Results from directory 2:\", no_blue_veil)\n"
   ]
  },
  {
   "cell_type": "code",
   "execution_count": 30,
   "id": "411604b7",
   "metadata": {},
   "outputs": [
    {
     "name": "stdout",
     "output_type": "stream",
     "text": [
      "The standart deviation of blue veil is : 3805.62\n",
      "The standart deviation of no  blue veil is : 12945.89\n",
      "Mean of results1 (Blue Veil): 3348.53\n",
      "Mean of results2 (No Blue Veil): 6158.42\n"
     ]
    }
   ],
   "source": [
    "# Calculate the means\n",
    "mean_results1 = np.mean(blue_veil)\n",
    "mean_results2 = np.mean(no_blue_veil)\n",
    "standart_devresult1 = round(statistics.stdev(blue_veil),2)\n",
    "print(f\"The standart deviation of blue veil is : {standart_devresult1}\")\n",
    "standart_devresult2 = round(statistics.stdev(no_blue_veil),2)\n",
    "print(f\"The standart deviation of no  blue veil is : {standart_devresult2}\")\n",
    "# Round the means to 2 decimal places\n",
    "rounded_mean_results1 = round(mean_results1, 2)\n",
    "rounded_mean_results2 = round(mean_results2, 2)\n",
    "\n",
    "\n",
    "# Print the rounded means\n",
    "print(\"Mean of results1 (Blue Veil):\", rounded_mean_results1)\n",
    "print(\"Mean of results2 (No Blue Veil):\", rounded_mean_results2)\n"
   ]
  },
  {
   "cell_type": "code",
   "execution_count": 32,
   "id": "d36e2b76",
   "metadata": {},
   "outputs": [
    {
     "data": {
      "image/png": "[encoded data removed]",
      "text/plain": [
       "<Figure size 640x480 with 1 Axes>"
      ]
     },
     "metadata": {},
     "output_type": "display_data"
    }
   ],
   "source": [
    "import matplotlib.pyplot as plt\n",
    "\n",
    "# Data\n",
    "means = [5121.57, 2824.19]\n",
    "std_devs = [3537.75, 4076.61]\n",
    "categories = ['Cancer', 'No cancer']\n",
    "\n",
    "# Plotting\n",
    "plt.errorbar(categories, means, yerr=std_devs, fmt='o')\n",
    "plt.xlabel('Categories')\n",
    "plt.ylabel('Values')\n",
    "plt.title('Means with Standard Deviations')\n",
    "plt.grid(True)\n",
    "\n",
    "# Display the plot\n",
    "plt.show()\n"
   ]
  },
  {
   "cell_type": "code",
   "execution_count": 36,
   "id": "2a9cbb30",
   "metadata": {},
   "outputs": [
    {
     "name": "stdout",
     "output_type": "stream",
     "text": [
      "Minimum value in results1 (Blue Veil): 165\n"
     ]
    }
   ],
   "source": [
    "# Find the minimum value in results1 (blue veil)\n",
    "min_value_results1 = min(results1)\n",
    "\n",
    "# Print the minimum value\n",
    "print(\"Minimum value in results1 (Blue Veil):\", min_value_results1)\n"
   ]
  },
  {
   "cell_type": "code",
   "execution_count": 11,
   "id": "dd2b0688",
   "metadata": {},
   "outputs": [],
   "source": [
    "def measure_pigment_network(image): #feature 1\n",
    "    \n",
    "    # Convert the image to the LAB color space\n",
    "    lab_image = cv2.cvtColor(image, cv2.COLOR_BGR2LAB)\n",
    "\n",
    "    # Extract the L, A, and B channels from the LAB image\n",
    "    l_channel, a_channel, b_channel = cv2.split(lab_image)\n",
    "\n",
    "    # Apply contrast stretching to enhance the L channel\n",
    "    enhanced_l_channel = cv2.equalizeHist(l_channel)\n",
    "\n",
    "    # Perform thresholding on the enhanced L channel to obtain a binary mask\n",
    "    _, binary_mask = cv2.threshold(enhanced_l_channel, 0, 255, cv2.THRESH_BINARY + cv2.THRESH_OTSU)\n",
    "\n",
    "    # Apply morphological operations to remove noise and refine the binary mask\n",
    "    kernel = cv2.getStructuringElement(cv2.MORPH_ELLIPSE, (5, 5))\n",
    "    morphological_mask = cv2.morphologyEx(binary_mask, cv2.MORPH_OPEN, kernel)\n",
    "\n",
    "    # Convert the morphological mask to a color image\n",
    "    color_mask = cv2.cvtColor(morphological_mask, cv2.COLOR_GRAY2BGR)\n",
    "\n",
    "    # Combine the color mask with the original image to highlight the regions of interest\n",
    "    result = cv2.bitwise_and(image, color_mask)\n",
    "\n",
    "    # Calculate the percentage of pigment network coverage\n",
    "    total_pixels = np.prod(binary_mask.shape[:2])\n",
    "    pigment_pixels = np.count_nonzero(binary_mask)\n",
    "    coverage_percentage = (pigment_pixels / total_pixels) * 100\n",
    "\n",
    "    #print(\"Pigment Network Coverage: {:.2f}%\".format(coverage_percentage))\n",
    "    #if coverage_percentage > 50:\n",
    "        #return 1\n",
    "    #else:\n",
    "        #return 0\n",
    "    return coverage_percentage"
   ]
  },
  {
   "cell_type": "code",
   "execution_count": 64,
   "id": "9545cc23",
   "metadata": {
    "scrolled": true
   },
   "outputs": [
    {
     "name": "stdout",
     "output_type": "stream",
     "text": [
      "Results from directory 3: [5.39703369140625, 8.7371826171875, 5.3863525390625, 10.67962646484375, 14.0869140625, 12.10784912109375, 7.80181884765625, 17.37060546875, 5.72662353515625, 6.7108154296875, 10.83526611328125, 8.37860107421875, 11.8133544921875, 15.948486328125, 10.9344482421875, 11.26556396484375, 8.97369384765625, 1.4678955078125, 3.55377197265625, 2.935791015625, 14.5538330078125, 8.29620361328125, 18.04046630859375, 8.54339599609375, 1.92108154296875, 6.0546875, 2.47039794921875, 13.09356689453125, 10.4339599609375, 6.6131591796875, 5.15899658203125, 4.72412109375, 6.73675537109375, 16.30096435546875, 5.71136474609375, 11.43035888671875, 7.20367431640625, 2.58636474609375, 4.89959716796875, 2.94647216796875, 2.4627685546875, 4.791259765625, 10.49041748046875, 12.73040771484375, 7.56072998046875]\n",
      "Results from directory 4: [50.22430419921875, 3.4027099609375, 2.1484375, 49.25994873046875, 6.9793701171875, 3.77197265625, 5.9722900390625, 8.02764892578125, 2.77252197265625, 13.42620849609375, 2.76641845703125, 1.82037353515625, 4.46319580078125, 7.281494140625, 5.12542724609375, 5.26123046875, 6.22100830078125, 16.058349609375, 4.28466796875, 11.94305419921875, 17.34161376953125, 3.84674072265625, 2.11639404296875, 3.23486328125, 4.99725341796875, 23.9349365234375, 5.01251220703125, 5.40924072265625, 7.64312744140625, 2.83050537109375, 7.7606201171875, 19.09637451171875, 11.06109619140625, 8.1024169921875, 3.4210205078125, 2.4078369140625, 0.3387451171875, 14.55230712890625, 4.534912109375, 1.3092041015625, 50.18157958984375, 2.911376953125, 2.90985107421875, 4.6783447265625, 4.736328125]\n"
     ]
    }
   ],
   "source": [
    "# Directories containing the pictures\n",
    "\n",
    "directory3 = r\"C:/Users/45911/Desktop/DS/Semester2/First_year_project/Project2/test_function/Cancer\"\n",
    "directory4 = r\"C:/Users/45911/Desktop/DS/Semester2/First_year_project/Project2/test_function/No_cancer\"\n",
    "\n",
    "# Lists to store the results\n",
    "pigment_network = []\n",
    "no_pigment_network= []\n",
    "\n",
    "# Function to process a directory\n",
    "def process_directory(directory, results):\n",
    "    # Loop through all files in the directory\n",
    "    for filename in os.listdir(directory):\n",
    "        # Check if the file is a picture\n",
    "        if filename.endswith(\".jpg\") or filename.endswith(\".png\"):\n",
    "            # Load the picture\n",
    "            picture_path = os.path.join(directory, filename)\n",
    "            picture = cv2.imread(picture_path)\n",
    "\n",
    "            # Process the picture using measure_blue_veil function\n",
    "            result = measure_pigment_network(picture)\n",
    "\n",
    "            # Append the result to the list\n",
    "            results.append(result)\n",
    "\n",
    "# Process the first directory\n",
    "process_directory(directory3, pigment_network)\n",
    "\n",
    "# Process the second directory\n",
    "process_directory(directory4, no_pigment_network)\n",
    "\n",
    "# Print the results\n",
    "print(\"Results from directory 3:\",pigment_network )\n",
    "print(\"Results from directory 4:\", no_pigment_network)\n"
   ]
  },
  {
   "cell_type": "code",
   "execution_count": 65,
   "id": "90849a85",
   "metadata": {},
   "outputs": [
    {
     "name": "stdout",
     "output_type": "stream",
     "text": [
      "The standart deviation of blue veil is : 4.39\n",
      "The standart deviation of no  blue veil is : 12.04\n",
      "Mean of results1 (Cancer): 8.35\n",
      "Mean of results2 (No cancer): 9.46\n"
     ]
    }
   ],
   "source": [
    "# Calculate the means\n",
    "mean_results1 = np.mean(pigment_network)\n",
    "mean_results2 = np.mean(no_pigment_network)\n",
    "standart_devresult1 = round(statistics.stdev(pigment_network),2)\n",
    "print(f\"The standart deviation of blue veil is : {standart_devresult1}\")\n",
    "standart_devresult2 = round(statistics.stdev(no_pigment_network),2)\n",
    "print(f\"The standart deviation of no  blue veil is : {standart_devresult2}\")\n",
    "# Round the means to 2 decimal places\n",
    "rounded_mean_results1 = round(mean_results1, 2)\n",
    "rounded_mean_results2 = round(mean_results2, 2)\n",
    "\n",
    "\n",
    "# Print the rounded means\n",
    "print(\"Mean of results1 (Cancer):\", rounded_mean_results1)\n",
    "print(\"Mean of results2 (No cancer):\", rounded_mean_results2)"
   ]
  },
  {
   "cell_type": "code",
   "execution_count": 66,
   "id": "6946cf99",
   "metadata": {},
   "outputs": [
    {
     "data": {
      "image/png": "[encoded data removed]",
      "text/plain": [
       "<Figure size 640x480 with 1 Axes>"
      ]
     },
     "metadata": {},
     "output_type": "display_data"
    }
   ],
   "source": [
    "import matplotlib.pyplot as plt\n",
    "\n",
    "# Data\n",
    "means = [mean_results1, mean_results2]\n",
    "std_devs = [standart_devresult1, standart_devresult2]\n",
    "categories = ['Cancer', 'No cancer']\n",
    "\n",
    "# Plotting\n",
    "plt.errorbar(categories, means, yerr=std_devs, fmt='o')\n",
    "plt.xlabel('Categories')\n",
    "plt.ylabel('Values')\n",
    "plt.title('Means with Standard Deviations')\n",
    "plt.grid(True)\n",
    "\n",
    "# Display the plot\n",
    "plt.show()"
   ]
  },
  {
   "cell_type": "code",
   "execution_count": 39,
   "id": "28040809",
   "metadata": {},
   "outputs": [],
   "source": [
    "def measure_irregular_pigmentation(image): #feature 6\n",
    "    # Convert the image to grayscale\n",
    "    gray = cv2.cvtColor(image, cv2.COLOR_BGR2GRAY)\n",
    "    \n",
    "    # Apply adaptive thresholding to create a binary image\n",
    "    threshold = threshold_otsu(gray)\n",
    "    binary = gray > threshold\n",
    "    \n",
    "    # Label connected components in the binary image\n",
    "    labeled_image = label(binary)\n",
    "    \n",
    "    # Initialize lists to store irregular pigmentation regions' coordinates\n",
    "    min_rows, min_cols, max_rows, max_cols = [], [], [], []\n",
    "    \n",
    "    # Iterate through each labeled region\n",
    "    for region in regionprops(labeled_image):\n",
    "        # Calculate the area and perimeter of the region\n",
    "        area = region.area\n",
    "        perimeter = region.perimeter\n",
    "        \n",
    "        # Calculate the circularity of the region\n",
    "        circularity = 4 * 3.1415 * (area / (perimeter ** 2))\n",
    "        \n",
    "        # Check if the region is irregular based on circularity threshold\n",
    "        if circularity < 0.6:\n",
    "            # Get the bounding box coordinates of the region\n",
    "            min_row, min_col, max_row, max_col = region.bbox\n",
    "            \n",
    "            # Store the coordinates of the irregular pigmentation region\n",
    "            min_rows.append(min_row)\n",
    "            min_cols.append(min_col)\n",
    "            max_rows.append(max_row)\n",
    "            max_cols.append(max_col)\n",
    "    \n",
    "    # Convert the image to the LAB color space\n",
    "    lab_image = cv2.cvtColor(image, cv2.COLOR_BGR2LAB)\n",
    "\n",
    "    # Extract the L channel from the LAB image\n",
    "    l_channel = lab_image[:, :, 0]\n",
    "\n",
    "    # Apply adaptive thresholding to create a binary mask\n",
    "    _, binary_mask = cv2.threshold(l_channel, 0, 255, cv2.THRESH_BINARY + cv2.THRESH_OTSU)\n",
    "\n",
    "    # Calculate the percentage of irregular pigmentation coverage\n",
    "    total_pixels = np.prod(binary_mask.shape[:2])\n",
    "    irregular_pixels = np.count_nonzero(binary_mask)\n",
    "    coverage_percentage = (irregular_pixels / total_pixels) * 100\n",
    "\n",
    "    #print(\"Irregular Pigmentation Coverage: {:.2f}%\".format(coverage_percentage))\n",
    "    #if coverage_percentage > 50:\n",
    "        #return 1\n",
    "    ##else:\n",
    "       # return 0\n",
    "    return coverage_percentage"
   ]
  },
  {
   "cell_type": "code",
   "execution_count": 42,
   "id": "e532aa07",
   "metadata": {},
   "outputs": [
    {
     "name": "stdout",
     "output_type": "stream",
     "text": [
      "Results from directory 3: [7.50885009765625, 12.73651123046875, 7.7056884765625, 15.90728759765625, 20.69091796875, 18.1549072265625, 11.09771728515625, 25.64697265625, 8.27178955078125, 9.3109130859375, 15.5548095703125, 12.30926513671875, 17.17987060546875, 17.77191162109375, 15.7867431640625, 16.53594970703125, 12.84637451171875, 1.99737548828125, 4.901123046875, 4.28924560546875, 21.2310791015625, 11.7889404296875, 19.00482177734375, 12.11395263671875, 2.587890625, 8.73260498046875, 3.67889404296875, 19.14215087890625, 15.22216796875, 9.5489501953125, 7.60498046875, 6.915283203125, 6.95648193359375, 23.5809326171875, 8.45794677734375, 16.973876953125, 10.137939453125, 3.851318359375, 7.36846923828125, 4.02984619140625, 3.509521484375, 6.6680908203125, 14.95819091796875, 18.26934814453125, 10.24169921875]\n",
      "Results from directory 4: [94.83184814453125, 5.08270263671875, 3.05938720703125, 56.74591064453125, 8.514404296875, 5.00946044921875, 8.5052490234375, 11.77520751953125, 3.80706787109375, 15.350341796875, 3.8055419921875, 2.392578125, 6.28509521484375, 10.67047119140625, 7.177734375, 7.50579833984375, 8.746337890625, 23.91510009765625, 6.05926513671875, 17.72308349609375, 25.68206787109375, 5.3619384765625, 3.0029296875, 4.58526611328125, 7.1044921875, 33.88671875, 7.14111328125, 7.720947265625, 11.2457275390625, 3.9398193359375, 10.77423095703125, 28.4393310546875, 15.9454345703125, 11.87591552734375, 4.62188720703125, 3.44390869140625, 0.46234130859375, 20.55511474609375, 6.4697265625, 1.715087890625, 69.122314453125, 4.05426025390625, 4.071044921875, 6.6741943359375, 6.24542236328125]\n"
     ]
    },
    {
     "name": "stderr",
     "output_type": "stream",
     "text": [
      "C:\\Users\\45911\\AppData\\Local\\Temp\\ipykernel_22868\\3703556543.py:22: RuntimeWarning: divide by zero encountered in double_scalars\n",
      "  circularity = 4 * 3.1415 * (area / (perimeter ** 2))\n"
     ]
    }
   ],
   "source": [
    "# Directories containing the pictures\n",
    "from skimage.filters import threshold_otsu\n",
    "from skimage.measure import label, regionprops\n",
    "\n",
    "directory3 = r\"C:/Users/45911/Desktop/DS/Semester2/First_year_project/Project2/test_function/Cancer\"\n",
    "directory4 = r\"C:/Users/45911/Desktop/DS/Semester2/First_year_project/Project2/test_function/No_cancer\"\n",
    "\n",
    "# Lists to store the results\n",
    "pigment_network = []\n",
    "no_pigment_network= []\n",
    "\n",
    "# Function to process a directory\n",
    "def process_directory(directory, results):\n",
    "    # Loop through all files in the directory\n",
    "    for filename in os.listdir(directory):\n",
    "        # Check if the file is a picture\n",
    "        if filename.endswith(\".jpg\") or filename.endswith(\".png\"):\n",
    "            # Load the picture\n",
    "            picture_path = os.path.join(directory, filename)\n",
    "            picture = cv2.imread(picture_path)\n",
    "\n",
    "            # Process the picture using measure_blue_veil function\n",
    "            result = measure_irregular_pigmentation(picture)\n",
    "\n",
    "            # Append the result to the list\n",
    "            results.append(result)\n",
    "\n",
    "# Process the first directory\n",
    "process_directory(directory3, pigment_network)\n",
    "\n",
    "# Process the second directory\n",
    "process_directory(directory4, no_pigment_network)\n",
    "\n",
    "# Print the results\n",
    "print(\"Results from directory 3:\",pigment_network )\n",
    "print(\"Results from directory 4:\", no_pigment_network)"
   ]
  },
  {
   "cell_type": "code",
   "execution_count": 43,
   "id": "d029b185",
   "metadata": {},
   "outputs": [
    {
     "name": "stdout",
     "output_type": "stream",
     "text": [
      "The standart deviation of blue veil is : 6.05\n",
      "The standart deviation of no  blue veil is : 18.26\n",
      "Mean of results1 (Cancer): 11.75\n",
      "Mean of results2 (No cancer): 13.58\n"
     ]
    }
   ],
   "source": [
    "# Calculate the means\n",
    "mean_results1 = np.mean(pigment_network)\n",
    "mean_results2 = np.mean(no_pigment_network)\n",
    "standart_devresult1 = round(statistics.stdev(pigment_network),2)\n",
    "print(f\"The standart deviation of blue veil is : {standart_devresult1}\")\n",
    "standart_devresult2 = round(statistics.stdev(no_pigment_network),2)\n",
    "print(f\"The standart deviation of no  blue veil is : {standart_devresult2}\")\n",
    "# Round the means to 2 decimal places\n",
    "rounded_mean_results1 = round(mean_results1, 2)\n",
    "rounded_mean_results2 = round(mean_results2, 2)\n",
    "\n",
    "\n",
    "# Print the rounded means\n",
    "print(\"Mean of results1 (Cancer):\", rounded_mean_results1)\n",
    "print(\"Mean of results2 (No cancer):\", rounded_mean_results2)"
   ]
  },
  {
   "cell_type": "code",
   "execution_count": 44,
   "id": "eb53f985",
   "metadata": {},
   "outputs": [
    {
     "data": {
      "image/png": "[encoded data removed]",
      "text/plain": [
       "<Figure size 640x480 with 1 Axes>"
      ]
     },
     "metadata": {},
     "output_type": "display_data"
    }
   ],
   "source": [
    "import matplotlib.pyplot as plt\n",
    "\n",
    "# Data\n",
    "means = [rounded_mean_results1, rounded_mean_results2]\n",
    "std_devs = [standart_devresult1, standart_devresult2]\n",
    "categories = ['Cancer', 'No cancer']\n",
    "\n",
    "# Plotting\n",
    "plt.errorbar(categories, means, yerr=std_devs, fmt='o')\n",
    "plt.xlabel('Categories')\n",
    "plt.ylabel('Values')\n",
    "plt.title('Means with Standard Deviations')\n",
    "plt.grid(True)\n",
    "\n",
    "# Display the plot\n",
    "plt.show()\n"
   ]
  },
  {
   "cell_type": "code",
   "execution_count": 47,
   "id": "8b65d7da",
   "metadata": {},
   "outputs": [],
   "source": [
    "from skimage import color, exposure\n",
    "def measure_vascular(image):\n",
    "    red_channel = image[:, :, 0]\n",
    "    enhanced_red_channel = exposure.adjust_gamma(red_channel, gamma=1)\n",
    "    enhanced_image = image.copy()\n",
    "    enhanced_image[:, :, 0] = enhanced_red_channel\n",
    "    hsv_img = color.rgb2hsv(enhanced_image)\n",
    "\n",
    "    lower_red1 = np.array([0, 40/100, 00/100])\n",
    "    upper_red1 = np.array([25/360, 1, 1])\n",
    "    mask1 = np.logical_and(np.all(hsv_img >= lower_red1, axis=-1), np.all(hsv_img <= upper_red1, axis=-1))\n",
    "\n",
    "    lower_red2 = np.array([330/360, 40/100, 00/100])  # Lower limit for red hue, saturation, and value\n",
    "    upper_red2 = np.array([1, 1, 1])  # Upper limit for red hue, saturation, and value\n",
    "    mask2 = np.logical_and(np.all(hsv_img >= lower_red2, axis=-1), np.all(hsv_img <= upper_red2, axis=-1))\n",
    "\n",
    "    mask = np.logical_or(mask1, mask2)\n",
    "\n",
    "    return np.sum(mask) "
   ]
  },
  {
   "cell_type": "code",
   "execution_count": 48,
   "id": "ad0f0e8f",
   "metadata": {},
   "outputs": [
    {
     "name": "stdout",
     "output_type": "stream",
     "text": [
      "Results from directory 3: [0, 0, 0, 0, 0, 0, 0, 0, 0, 0, 0, 0, 0, 2, 0, 0, 0, 0, 0, 0, 0, 0, 7, 0, 0, 0, 0, 0, 0, 0, 0, 0, 0, 0, 0, 0, 0, 0, 0, 0, 0, 0, 0, 0, 0]\n",
      "Results from directory 4: [0, 0, 0, 0, 0, 0, 0, 0, 0, 0, 0, 0, 0, 0, 0, 0, 0, 0, 0, 0, 0, 0, 0, 0, 0, 0, 0, 0, 2, 0, 0, 0, 0, 0, 0, 0, 0, 0, 0, 0, 0, 0, 0, 0, 0]\n"
     ]
    }
   ],
   "source": [
    "# Directories containing the pictures\n",
    "from skimage.filters import threshold_otsu\n",
    "from skimage.measure import label, regionprops\n",
    "\n",
    "directory3 = r\"C:/Users/45911/Desktop/DS/Semester2/First_year_project/Project2/test_function/Cancer\"\n",
    "directory4 = r\"C:/Users/45911/Desktop/DS/Semester2/First_year_project/Project2/test_function/No_cancer\"\n",
    "\n",
    "# Lists to store the results\n",
    "pigment_network = []\n",
    "no_pigment_network= []\n",
    "\n",
    "# Function to process a directory\n",
    "def process_directory(directory, results):\n",
    "    # Loop through all files in the directory\n",
    "    for filename in os.listdir(directory):\n",
    "        # Check if the file is a picture\n",
    "        if filename.endswith(\".jpg\") or filename.endswith(\".png\"):\n",
    "            # Load the picture\n",
    "            picture_path = os.path.join(directory, filename)\n",
    "            picture = cv2.imread(picture_path)\n",
    "\n",
    "            # Process the picture using measure_blue_veil function\n",
    "            result = measure_vascular(picture)\n",
    "\n",
    "            # Append the result to the list\n",
    "            results.append(result)\n",
    "\n",
    "# Process the first directory\n",
    "process_directory(directory3, pigment_network)\n",
    "\n",
    "# Process the second directory\n",
    "process_directory(directory4, no_pigment_network)\n",
    "\n",
    "# Print the results\n",
    "print(\"Results from directory 3:\",pigment_network )\n",
    "print(\"Results from directory 4:\", no_pigment_network)"
   ]
  },
  {
   "cell_type": "code",
   "execution_count": 49,
   "id": "9f85019c",
   "metadata": {},
   "outputs": [
    {
     "name": "stdout",
     "output_type": "stream",
     "text": [
      "The standart deviation of blue veil is : 1.0\n",
      "The standart deviation of no  blue veil is : 0.0\n",
      "Mean of results1 (Cancer): 0.2\n",
      "Mean of results2 (No cancer): 0.04\n"
     ]
    }
   ],
   "source": [
    "# Calculate the means\n",
    "mean_results1 = np.mean(pigment_network)\n",
    "mean_results2 = np.mean(no_pigment_network)\n",
    "standart_devresult1 = round(statistics.stdev(pigment_network),2)\n",
    "print(f\"The standart deviation of blue veil is : {standart_devresult1}\")\n",
    "standart_devresult2 = round(statistics.stdev(no_pigment_network),2)\n",
    "print(f\"The standart deviation of no  blue veil is : {standart_devresult2}\")\n",
    "# Round the means to 2 decimal places\n",
    "rounded_mean_results1 = round(mean_results1, 2)\n",
    "rounded_mean_results2 = round(mean_results2, 2)\n",
    "\n",
    "\n",
    "# Print the rounded means\n",
    "print(\"Mean of results1 (Cancer):\", rounded_mean_results1)\n",
    "print(\"Mean of results2 (No cancer):\", rounded_mean_results2)"
   ]
  },
  {
   "cell_type": "code",
   "execution_count": 50,
   "id": "9ca9fb85",
   "metadata": {},
   "outputs": [
    {
     "data": {
      "image/png": "[encoded data removed]",
      "text/plain": [
       "<Figure size 640x480 with 1 Axes>"
      ]
     },
     "metadata": {},
     "output_type": "display_data"
    }
   ],
   "source": [
    "import matplotlib.pyplot as plt\n",
    "\n",
    "# Data\n",
    "means = [rounded_mean_results1, rounded_mean_results2]\n",
    "std_devs = [standart_devresult1, standart_devresult2]\n",
    "categories = ['Cancer', 'No cancer']\n",
    "\n",
    "# Plotting\n",
    "plt.errorbar(categories, means, yerr=std_devs, fmt='o')\n",
    "plt.xlabel('Categories')\n",
    "plt.ylabel('Values')\n",
    "plt.title('Means with Standard Deviations')\n",
    "plt.grid(True)\n",
    "\n",
    "# Display the plot\n",
    "plt.show()\n"
   ]
  },
  {
   "cell_type": "code",
   "execution_count": 53,
   "id": "e2b3b690",
   "metadata": {},
   "outputs": [],
   "source": [
    "from skimage.color import rgb2gray\n",
    "from skimage.feature import blob_log\n",
    "from math import sqrt\n",
    "\n",
    "def measure_globules(image):\n",
    "    image_gray = rgb2gray(image)\n",
    "    inverted_image = 1 - image_gray\n",
    "\n",
    "    blobs_doh = blob_log(inverted_image, min_sigma=1, max_sigma=4, num_sigma=50, threshold=.05)\n",
    "    blobs_doh[:, 2] = blobs_doh[:, 2] * sqrt(2)\n",
    "    blob_amount = len(blobs_doh)\n",
    "\n",
    "    return blob_amount\n"
   ]
  },
  {
   "cell_type": "code",
   "execution_count": 54,
   "id": "d1df2aeb",
   "metadata": {},
   "outputs": [
    {
     "name": "stdout",
     "output_type": "stream",
     "text": [
      "Results from directory 3: [91, 52, 118, 240, 65, 50, 89, 218, 46, 184, 180, 70, 147, 213, 53, 69, 85, 19, 25, 24, 192, 59, 247, 47, 26, 48, 28, 103, 60, 41, 112, 42, 53, 66, 52, 82, 129, 33, 50, 39, 30, 27, 63, 76, 52]\n",
      "Results from directory 4: [61, 41, 21, 9, 55, 49, 132, 131, 34, 115, 20, 25, 26, 68, 42, 33, 43, 77, 41, 97, 76, 39, 20, 49, 85, 76, 80, 61, 98, 30, 64, 88, 113, 41, 42, 30, 13, 176, 62, 29, 36, 29, 93, 58, 32]\n"
     ]
    }
   ],
   "source": [
    "# Directories containing the pictures\n",
    "from skimage.filters import threshold_otsu\n",
    "from skimage.measure import label, regionprops\n",
    "\n",
    "directory3 = r\"C:/Users/45911/Desktop/DS/Semester2/First_year_project/Project2/test_function/Cancer\"\n",
    "directory4 = r\"C:/Users/45911/Desktop/DS/Semester2/First_year_project/Project2/test_function/No_cancer\"\n",
    "\n",
    "# Lists to store the results\n",
    "pigment_network = []\n",
    "no_pigment_network= []\n",
    "\n",
    "# Function to process a directory\n",
    "def process_directory(directory, results):\n",
    "    # Loop through all files in the directory\n",
    "    for filename in os.listdir(directory):\n",
    "        # Check if the file is a picture\n",
    "        if filename.endswith(\".jpg\") or filename.endswith(\".png\"):\n",
    "            # Load the picture\n",
    "            picture_path = os.path.join(directory, filename)\n",
    "            picture = cv2.imread(picture_path)\n",
    "\n",
    "            # Process the picture using measure_blue_veil function\n",
    "            result = measure_globules(picture)\n",
    "\n",
    "            # Append the result to the list\n",
    "            results.append(result)\n",
    "\n",
    "# Process the first directory\n",
    "process_directory(directory3, pigment_network)\n",
    "\n",
    "# Process the second directory\n",
    "process_directory(directory4, no_pigment_network)\n",
    "\n",
    "# Print the results\n",
    "print(\"Results from directory 3:\",pigment_network )\n",
    "print(\"Results from directory 4:\", no_pigment_network)"
   ]
  },
  {
   "cell_type": "code",
   "execution_count": 55,
   "id": "4e9ca9ab",
   "metadata": {},
   "outputs": [
    {
     "name": "stdout",
     "output_type": "stream",
     "text": [
      "The standart deviation of blue veil is : 62.37\n",
      "The standart deviation of no  blue veil is : 36.04\n",
      "Mean of results1 (Cancer): 84.33\n",
      "Mean of results2 (No cancer): 58.67\n"
     ]
    }
   ],
   "source": [
    "# Calculate the means\n",
    "mean_results1 = np.mean(pigment_network)\n",
    "mean_results2 = np.mean(no_pigment_network)\n",
    "standart_devresult1 = round(statistics.stdev(pigment_network),2)\n",
    "print(f\"The standart deviation of blue veil is : {standart_devresult1}\")\n",
    "standart_devresult2 = round(statistics.stdev(no_pigment_network),2)\n",
    "print(f\"The standart deviation of no  blue veil is : {standart_devresult2}\")\n",
    "# Round the means to 2 decimal places\n",
    "rounded_mean_results1 = round(mean_results1, 2)\n",
    "rounded_mean_results2 = round(mean_results2, 2)\n",
    "\n",
    "\n",
    "# Print the rounded means\n",
    "print(\"Mean of results1 (Cancer):\", rounded_mean_results1)\n",
    "print(\"Mean of results2 (No cancer):\", rounded_mean_results2)"
   ]
  },
  {
   "cell_type": "code",
   "execution_count": 56,
   "id": "f518cfc3",
   "metadata": {},
   "outputs": [
    {
     "data": {
      "image/png": "[encoded data removed]",
      "text/plain": [
       "<Figure size 640x480 with 1 Axes>"
      ]
     },
     "metadata": {},
     "output_type": "display_data"
    }
   ],
   "source": [
    "import matplotlib.pyplot as plt\n",
    "\n",
    "# Data\n",
    "means = [rounded_mean_results1, rounded_mean_results2]\n",
    "std_devs = [standart_devresult1, standart_devresult2]\n",
    "categories = ['Cancer', 'No cancer']\n",
    "\n",
    "# Plotting\n",
    "plt.errorbar(categories, means, yerr=std_devs, fmt='o')\n",
    "plt.xlabel('Categories')\n",
    "plt.ylabel('Values')\n",
    "plt.title('Means with Standard Deviations')\n",
    "plt.grid(True)\n",
    "\n",
    "# Display the plot\n",
    "plt.show()\n"
   ]
  },
  {
   "cell_type": "code",
   "execution_count": 60,
   "id": "61a28a5a",
   "metadata": {},
   "outputs": [],
   "source": [
    "from skimage import color, exposure\n",
    "def measure_blue(image):\n",
    "    red_channel = image[:, :, 0]\n",
    "    enhanced_red_channel = exposure.adjust_gamma(red_channel, gamma=1)\n",
    "    enhanced_image = image.copy()\n",
    "    enhanced_image[:, :, 0] = enhanced_red_channel\n",
    "    hsv_img = color.rgb2hsv(enhanced_image)\n",
    "\n",
    "    lower_red1 = np.array([240/360, 40/100, 0/100])\n",
    "    upper_red1 = np.array([300/360, 1, 1])\n",
    "    mask = np.logical_and(np.all(hsv_img >= lower_red1, axis=-1), np.all(hsv_img <= upper_red1, axis=-1))\n",
    "\n",
    "    \n",
    "\n",
    "    \n",
    "\n",
    "    return np.sum(mask) "
   ]
  },
  {
   "cell_type": "code",
   "execution_count": 61,
   "id": "5c96b694",
   "metadata": {},
   "outputs": [
    {
     "name": "stdout",
     "output_type": "stream",
     "text": [
      "Results from directory 3: [7, 64, 97, 231, 22, 1213, 18, 1192, 11, 1138, 407, 52, 6113, 177, 2300, 2, 145, 0, 170, 822, 24, 29, 60, 138, 0, 1, 3, 4045, 1201, 2830, 7, 21, 14, 41, 21, 21, 139, 143, 5, 19, 12, 7, 14, 12, 1]\n",
      "Results from directory 4: [1, 0, 5, 0, 980, 0, 9, 0, 8, 10, 25, 8, 5, 15, 4, 6, 72, 10655, 0, 0, 16, 1, 0, 0, 1, 0, 739, 141, 1, 24, 7, 129, 7, 4, 0, 3, 0, 0, 68, 65, 0, 2, 1176, 93, 14]\n"
     ]
    }
   ],
   "source": [
    "# Directories containing the pictures\n",
    "from skimage.filters import threshold_otsu\n",
    "from skimage.measure import label, regionprops\n",
    "\n",
    "directory3 = r\"C:/Users/45911/Desktop/DS/Semester2/First_year_project/Project2/test_function/Cancer\"\n",
    "directory4 = r\"C:/Users/45911/Desktop/DS/Semester2/First_year_project/Project2/test_function/No_cancer\"\n",
    "\n",
    "# Lists to store the results\n",
    "pigment_network = []\n",
    "no_pigment_network= []\n",
    "\n",
    "# Function to process a directory\n",
    "def process_directory(directory, results):\n",
    "    # Loop through all files in the directory\n",
    "    for filename in os.listdir(directory):\n",
    "        # Check if the file is a picture\n",
    "        if filename.endswith(\".jpg\") or filename.endswith(\".png\"):\n",
    "            # Load the picture\n",
    "            picture_path = os.path.join(directory, filename)\n",
    "            picture = cv2.imread(picture_path)\n",
    "\n",
    "            # Process the picture using measure_blue_veil function\n",
    "            result = measure_blue(picture)\n",
    "\n",
    "            # Append the result to the list\n",
    "            results.append(result)\n",
    "\n",
    "# Process the first directory\n",
    "process_directory(directory3, pigment_network)\n",
    "\n",
    "# Process the second directory\n",
    "process_directory(directory4, no_pigment_network)\n",
    "\n",
    "# Print the results\n",
    "print(\"Results from directory 3:\",pigment_network )\n",
    "print(\"Results from directory 4:\", no_pigment_network)"
   ]
  },
  {
   "cell_type": "code",
   "execution_count": 62,
   "id": "d71157b1",
   "metadata": {},
   "outputs": [
    {
     "name": "stdout",
     "output_type": "stream",
     "text": [
      "The standart deviation of blue veil is : 1186.82\n",
      "The standart deviation of no  blue veil is : 612.3\n",
      "Mean of results1 (Cancer): 510.87\n",
      "Mean of results2 (No cancer): 317.64\n"
     ]
    },
    {
     "name": "stderr",
     "output_type": "stream",
     "text": [
      "C:\\Users\\45911\\anaconda3\\lib\\fractions.py:394: RuntimeWarning: overflow encountered in long_scalars\n",
      "  return Fraction(a.numerator * db - b.numerator * da,\n"
     ]
    }
   ],
   "source": [
    "# Calculate the means\n",
    "mean_results1 = np.mean(pigment_network)\n",
    "mean_results2 = np.mean(no_pigment_network)\n",
    "standart_devresult1 = round(statistics.stdev(pigment_network),2)\n",
    "print(f\"The standart deviation of blue veil is : {standart_devresult1}\")\n",
    "standart_devresult2 = round(statistics.stdev(no_pigment_network),2)\n",
    "print(f\"The standart deviation of no  blue veil is : {standart_devresult2}\")\n",
    "# Round the means to 2 decimal places\n",
    "rounded_mean_results1 = round(mean_results1, 2)\n",
    "rounded_mean_results2 = round(mean_results2, 2)\n",
    "\n",
    "\n",
    "# Print the rounded means\n",
    "print(\"Mean of results1 (Cancer):\", rounded_mean_results1)\n",
    "print(\"Mean of results2 (No cancer):\", rounded_mean_results2)"
   ]
  },
  {
   "cell_type": "code",
   "execution_count": 63,
   "id": "5ab41929",
   "metadata": {},
   "outputs": [
    {
     "data": {
      "image/png": "[encoded data removed]",
      "text/plain": [
       "<Figure size 640x480 with 1 Axes>"
      ]
     },
     "metadata": {},
     "output_type": "display_data"
    }
   ],
   "source": [
    "import matplotlib.pyplot as plt\n",
    "\n",
    "# Data\n",
    "means = [rounded_mean_results1, rounded_mean_results2]\n",
    "std_devs = [standart_devresult1, standart_devresult2]\n",
    "categories = ['Cancer', 'No cancer']\n",
    "\n",
    "# Plotting\n",
    "plt.errorbar(categories, means, yerr=std_devs, fmt='o')\n",
    "plt.xlabel('Categories')\n",
    "plt.ylabel('Values')\n",
    "plt.title('Means with Standard Deviations')\n",
    "plt.grid(True)\n",
    "\n",
    "# Display the plot\n",
    "plt.show()"
   ]
  },
  {
   "cell_type": "code",
   "execution_count": 80,
   "id": "19799afb",
   "metadata": {},
   "outputs": [],
   "source": [
    "def asymmetry_analysis(images):\n",
    "    asymmetry_features = []\n",
    "    for img in images:\n",
    "        # Convert to grayscale if necessary\n",
    "        if img.ndim == 3:\n",
    "            gray = cv2.cvtColor(img, cv2.COLOR_BGR2GRAY)\n",
    "        else:\n",
    "            gray = img\n",
    "\n",
    "        # Threshold the image\n",
    "        _, thresh = cv2.threshold(gray, 0, 255, cv2.THRESH_BINARY_INV+cv2.THRESH_OTSU)\n",
    "        # Find contours\n",
    "        contours, _ = cv2.findContours(thresh, cv2.RETR_EXTERNAL, cv2.CHAIN_APPROX_SIMPLE)\n",
    "        # Get the largest contour\n",
    "        largest_contour = max(contours, key=cv2.contourArea)\n",
    "        # Create a mask for the contour\n",
    "        mask = np.zeros_like(gray)\n",
    "        cv2.drawContours(mask, [largest_contour], -1, 255, -1)\n",
    "        # Get the region of interest (ROI)\n",
    "        roi = cv2.bitwise_and(gray, mask)\n",
    "        # Find the horizontal and vertical axis of the ROI\n",
    "        contours, _ = cv2.findContours(mask, cv2.RETR_LIST, cv2.CHAIN_APPROX_NONE)\n",
    "\n",
    "        cnt = contours[0]\n",
    "        (x,y),(MA,ma),angle = cv2.fitEllipse(cnt)\n",
    "        if angle > 90:\n",
    "            angle = angle - 90\n",
    "        else:\n",
    "            angle = angle + 90\n",
    "        # Rotate the ROI to align the axis\n",
    "        M = cv2.getRotationMatrix2D((x,y),angle,1)\n",
    "        rotated_roi = cv2.warpAffine(roi,M,(roi.shape[1],roi.shape[0]))\n",
    "        # Compute the asymmetry feature\n",
    "        asymmetry = np.sum(np.abs(roi - rotated_roi)) / np.sum(roi)\n",
    "        asymmetry_features.append(asymmetry)\n",
    "    return asymmetry\n",
    "\n"
   ]
  },
  {
   "cell_type": "code",
   "execution_count": 81,
   "id": "76c057f9",
   "metadata": {},
   "outputs": [
    {
     "name": "stderr",
     "output_type": "stream",
     "text": [
      "C:\\Users\\45911\\AppData\\Local\\Temp\\ipykernel_22868\\2631394035.py:34: RuntimeWarning: invalid value encountered in ulong_scalars\n",
      "  asymmetry = np.sum(np.abs(roi - rotated_roi)) / np.sum(roi)\n"
     ]
    },
    {
     "name": "stdout",
     "output_type": "stream",
     "text": [
      "Results from directory 3: [nan, nan, nan, nan, nan, nan, nan, nan, nan, nan, nan, nan, nan, nan, nan, nan, nan, nan, nan, nan, nan, nan, nan, nan, nan, nan, nan, nan, nan, nan, nan, nan, nan, nan, nan, nan, nan, nan, nan, nan, nan, nan, nan, nan, nan]\n",
      "Results from directory 4: [nan, nan, nan, 1.003969981814922, nan, nan, nan, nan, nan, nan, nan, nan, nan, nan, nan, nan, nan, nan, nan, nan, nan, nan, nan, nan, nan, nan, nan, nan, nan, nan, nan, nan, nan, nan, nan, nan, nan, nan, nan, nan, 0.9942228269951539, nan, nan, nan, nan]\n"
     ]
    }
   ],
   "source": [
    "# Directories containing the pictures\n",
    "from skimage.filters import threshold_otsu\n",
    "from skimage.measure import label, regionprops\n",
    "\n",
    "directory3 = r\"C:/Users/45911/Desktop/DS/Semester2/First_year_project/Project2/test_function/Cancer\"\n",
    "directory4 = r\"C:/Users/45911/Desktop/DS/Semester2/First_year_project/Project2/test_function/No_cancer\"\n",
    "\n",
    "# Lists to store the results\n",
    "pigment_network = []\n",
    "no_pigment_network= []\n",
    "\n",
    "# Function to process a directory\n",
    "def process_directory(directory, results):\n",
    "    # Loop through all files in the directory\n",
    "    for filename in os.listdir(directory):\n",
    "        # Check if the file is a picture\n",
    "        if filename.endswith(\".jpg\") or filename.endswith(\".png\"):\n",
    "            # Load the picture\n",
    "            picture_path = os.path.join(directory, filename)\n",
    "            picture = cv2.imread(picture_path)\n",
    "\n",
    "            # Process the picture using measure_blue_veil function\n",
    "            result = asymmetry_analysis(picture)\n",
    "\n",
    "            # Append the result to the list\n",
    "            results.append(result)\n",
    "\n",
    "# Process the first directory\n",
    "process_directory(directory3, pigment_network)\n",
    "\n",
    "# Process the second directory\n",
    "process_directory(directory4, no_pigment_network)\n",
    "\n",
    "# Print the results\n",
    "print(\"Results from directory 3:\",pigment_network )\n",
    "print(\"Results from directory 4:\", no_pigment_network)"
   ]
  },
  {
   "cell_type": "code",
   "execution_count": 89,
   "id": "c818f637",
   "metadata": {},
   "outputs": [],
   "source": [
    "def get_texture_features(img_folder):\n",
    "    contrast = []\n",
    "    correlation = []\n",
    "    energy = []\n",
    "    homogeneity = []\n",
    "    haralick = []\n",
    "    \n",
    "    with os.scandir(img_folder) as entries:\n",
    "        for entry in entries:\n",
    "            if entry.name.endswith('.png') and entry.is_file():\n",
    "                img_path = os.path.join(img_folder, entry.name)\n",
    "                img = io.imread(img_path, as_gray=True)\n",
    "                \n",
    "                # Get GLCM texture features\n",
    "                img_int = (img * 255).astype(np.uint8)\n",
    "\n",
    "                glcm = skimage.feature.graycomatrix(img_int, distances=[1], angles=[0], levels=256, symmetric=True, normed=True)\n",
    "                contrast.append(skimage.feature.graycoprops(glcm, 'contrast')[0, 0])\n",
    "                correlation.append(skimage.feature.graycoprops(glcm, 'correlation')[0, 0])\n",
    "                energy.append(skimage.feature.graycoprops(glcm, 'energy')[0, 0])\n",
    "                homogeneity.append(skimage.feature.graycoprops(glcm, 'homogeneity')[0, 0])\n",
    "    \n",
    "    return contrast\n",
    "\n",
    "#contrast, correlation, energy, homogeneity = get_texture_features(resized_images_path)\n",
    "\n"
   ]
  },
  {
   "cell_type": "code",
   "execution_count": 91,
   "id": "01b266b8",
   "metadata": {},
   "outputs": [
    {
     "name": "stderr",
     "output_type": "stream",
     "text": [
      "C:\\Users\\45911\\AppData\\Local\\Temp\\ipykernel_22868\\4093742746.py:8: DeprecationWarning: scandir: path should be string, bytes, os.PathLike or None, not ndarray\n",
      "  with os.scandir(img_folder) as entries:\n"
     ]
    },
    {
     "ename": "ValueError",
     "evalue": "scandir: embedded null character in path",
     "output_type": "error",
     "traceback": [
      "\u001b[1;31m---------------------------------------------------------------------------\u001b[0m",
      "\u001b[1;31mValueError\u001b[0m                                Traceback (most recent call last)",
      "Cell \u001b[1;32mIn [91], line 29\u001b[0m\n\u001b[0;32m     26\u001b[0m             results\u001b[38;5;241m.\u001b[39mappend(result)\n\u001b[0;32m     28\u001b[0m \u001b[38;5;66;03m# Process the first directory\u001b[39;00m\n\u001b[1;32m---> 29\u001b[0m \u001b[43mprocess_directory\u001b[49m\u001b[43m(\u001b[49m\u001b[43mdirectory3\u001b[49m\u001b[43m,\u001b[49m\u001b[43m \u001b[49m\u001b[43mpigment_network\u001b[49m\u001b[43m)\u001b[49m\n\u001b[0;32m     31\u001b[0m \u001b[38;5;66;03m# Process the second directory\u001b[39;00m\n\u001b[0;32m     32\u001b[0m process_directory(directory4, no_pigment_network)\n",
      "Cell \u001b[1;32mIn [91], line 23\u001b[0m, in \u001b[0;36mprocess_directory\u001b[1;34m(directory, results)\u001b[0m\n\u001b[0;32m     20\u001b[0m picture \u001b[38;5;241m=\u001b[39m cv2\u001b[38;5;241m.\u001b[39mimread(picture_path)\n\u001b[0;32m     22\u001b[0m \u001b[38;5;66;03m# Process the picture using measure_blue_veil function\u001b[39;00m\n\u001b[1;32m---> 23\u001b[0m result \u001b[38;5;241m=\u001b[39m \u001b[43mget_texture_features\u001b[49m\u001b[43m(\u001b[49m\u001b[43mpicture\u001b[49m\u001b[43m)\u001b[49m\n\u001b[0;32m     25\u001b[0m \u001b[38;5;66;03m# Append the result to the list\u001b[39;00m\n\u001b[0;32m     26\u001b[0m results\u001b[38;5;241m.\u001b[39mappend(result)\n",
      "Cell \u001b[1;32mIn [89], line 8\u001b[0m, in \u001b[0;36mget_texture_features\u001b[1;34m(img_folder)\u001b[0m\n\u001b[0;32m      5\u001b[0m homogeneity \u001b[38;5;241m=\u001b[39m []\n\u001b[0;32m      6\u001b[0m haralick \u001b[38;5;241m=\u001b[39m []\n\u001b[1;32m----> 8\u001b[0m \u001b[38;5;28;01mwith\u001b[39;00m \u001b[43mos\u001b[49m\u001b[38;5;241;43m.\u001b[39;49m\u001b[43mscandir\u001b[49m\u001b[43m(\u001b[49m\u001b[43mimg_folder\u001b[49m\u001b[43m)\u001b[49m \u001b[38;5;28;01mas\u001b[39;00m entries:\n\u001b[0;32m      9\u001b[0m     \u001b[38;5;28;01mfor\u001b[39;00m entry \u001b[38;5;129;01min\u001b[39;00m entries:\n\u001b[0;32m     10\u001b[0m         \u001b[38;5;28;01mif\u001b[39;00m entry\u001b[38;5;241m.\u001b[39mname\u001b[38;5;241m.\u001b[39mendswith(\u001b[38;5;124m'\u001b[39m\u001b[38;5;124m.png\u001b[39m\u001b[38;5;124m'\u001b[39m) \u001b[38;5;129;01mand\u001b[39;00m entry\u001b[38;5;241m.\u001b[39mis_file():\n",
      "\u001b[1;31mValueError\u001b[0m: scandir: embedded null character in path"
     ]
    }
   ],
   "source": [
    "# Directories containing the pictures\n",
    "from skimage.filters import threshold_otsu\n",
    "from skimage.measure import label, regionprops\n",
    "\n",
    "directory3 = r\"C:/Users/45911/Desktop/DS/Semester2/First_year_project/Project2/test_function/Cancer\"\n",
    "directory4 = r\"C:/Users/45911/Desktop/DS/Semester2/First_year_project/Project2/test_function/No_cancer\"\n",
    "\n",
    "# Lists to store the results\n",
    "pigment_network = []\n",
    "no_pigment_network= []\n",
    "\n",
    "# Function to process a directory\n",
    "def process_directory(directory, results):\n",
    "    # Loop through all files in the directory\n",
    "    for filename in os.listdir(directory):\n",
    "        # Check if the file is a picture\n",
    "        if filename.endswith(\".jpg\") or filename.endswith(\".png\"):\n",
    "            # Load the picture\n",
    "            picture_path = os.path.join(directory, filename)\n",
    "            picture = cv2.imread(picture_path)\n",
    "\n",
    "            # Process the picture using measure_blue_veil function\n",
    "            result = get_texture_features(picture)\n",
    "\n",
    "            # Append the result to the list\n",
    "            results.append(result)\n",
    "\n",
    "# Process the first directory\n",
    "process_directory(directory3, pigment_network)\n",
    "\n",
    "# Process the second directory\n",
    "process_directory(directory4, no_pigment_network)\n",
    "\n",
    "# Print the results\n",
    "print(\"Results from directory 3:\",pigment_network )\n",
    "print(\"Results from directory 4:\", no_pigment_network)"
   ]
  },
  {
   "cell_type": "code",
   "execution_count": null,
   "id": "90cd57e4",
   "metadata": {},
   "outputs": [],
   "source": [
    "directory3 = r\"C:/Users/45911/Desktop/DS/Semester2/First_year_project/Project2/test_function/Cancer\"\n",
    "directory4 = r\"C:/Users/45911/Desktop/DS/Semester2/First_year_project/Project2/test_function/No_cancer\"\n",
    "# Lists to store the results\n",
    "cancer = []\n",
    "no_cancer = []"
   ]
  },
  {
   "cell_type": "code",
   "execution_count": null,
   "id": "ed63c61c",
   "metadata": {},
   "outputs": [],
   "source": [
    "def "
   ]
  },
  {
   "cell_type": "code",
   "execution_count": 96,
   "id": "3e93cb63",
   "metadata": {},
   "outputs": [],
   "source": [
    "def calculate_stats(list_cancer,list_no_cancer):\n",
    "    # Calculate the means\n",
    "    mean_cancer = np.mean(list_cancer)\n",
    "    mean_no_cancer = np.mean(list_no_cancer)\n",
    "    standart_devresult1 = round(statistics.stdev(list_cancer),2)\n",
    "    print(f\"The standart deviation of a feature , cancer is : {standart_devresult1}\")\n",
    "    standart_devresult2 = round(statistics.stdev(list_no_cancer),2)\n",
    "    print(f\"The standart deviation of no cancer  is : {standart_devresult2}\")\n",
    "    # Round the means to 2 decimal places\n",
    "    rounded_mean_results1 = round(mean_results1, 2)\n",
    "    rounded_mean_results2 = round(mean_results2, 2)\n",
    "\n",
    "\n",
    "    # Print the rounded means\n",
    "    print(\"Mean of results1 (Cancer):\", rounded_mean_results1)\n",
    "    print(\"Mean of results2 (No cancer):\", rounded_mean_results2)\n",
    "    return rounded_mean_results1, rounded_mean_results2,standart_devresult1,standart_devresult2"
   ]
  },
  {
   "cell_type": "code",
   "execution_count": 97,
   "id": "45829e27",
   "metadata": {},
   "outputs": [],
   "source": [
    "def make_plot(rounded_mean_results1,rounded_mean_results2,standart_devresult1,standart_devresult2):\n",
    "    means = [rounded_mean_results1, rounded_mean_results2]\n",
    "    std_devs = [standart_devresult1, standart_devresult2]\n",
    "    categories = ['Cancer', 'No cancer']\n",
    "\n",
    "    # Plotting\n",
    "    plt.errorbar(categories, means, yerr=std_devs, fmt='o')\n",
    "    plt.xlabel('Categories')\n",
    "    plt.ylabel('Values')\n",
    "    plt.title('Means with Standard Deviations')\n",
    "    plt.grid(True)\n",
    "\n",
    "    # Display the plot\n",
    "    plt.show()"
   ]
  },
  {
   "cell_type": "code",
   "execution_count": 94,
   "id": "cb222a20",
   "metadata": {},
   "outputs": [],
   "source": []
  },
  {
   "cell_type": "code",
   "execution_count": null,
   "id": "7e70f1d9",
   "metadata": {},
   "outputs": [],
   "source": []
  }
 ],
 "metadata": {
  "kernelspec": {
   "display_name": "Python 3 (ipykernel)",
   "language": "python",
   "name": "python3"
  },
  "language_info": {
   "codemirror_mode": {
    "name": "ipython",
    "version": 3
   },
   "file_extension": ".py",
   "mimetype": "text/x-python",
   "name": "python",
   "nbconvert_exporter": "python",
   "pygments_lexer": "ipython3",
   "version": "3.9.12"
  }
 },
 "nbformat": 4,
 "nbformat_minor": 5
}
