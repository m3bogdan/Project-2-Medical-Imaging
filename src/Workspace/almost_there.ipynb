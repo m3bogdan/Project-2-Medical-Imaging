{
 "cells": [
  {
   "cell_type": "code",
   "execution_count": 1,
   "metadata": {},
   "outputs": [],
   "source": [
    "# import the necessary packages\n",
    "import matplotlib.pyplot as plt\n",
    "from skimage import color, exposure, io, morphology\n",
    "import cv2\n",
    "import numpy as np\n",
    "import os"
   ]
  },
  {
   "cell_type": "code",
   "execution_count": 2,
   "metadata": {},
   "outputs": [],
   "source": [
    "def step1(original_image):\n",
    "    # load image\n",
    "    img = cv2.imread(original_image)\n",
    "\n",
    "    # convert image to RGB format\n",
    "    img = cv2.cvtColor(img, cv2.COLOR_BGR2RGB)\n",
    "\n",
    "    # calculate center coordinates and radius of circular mask\n",
    "    (h, w) = img.shape[:2]\n",
    "    (center_x, center_y) = (w // 2, h // 2)\n",
    "    radius = int(min(h, w) * 0.4)  # set radius as 40% of minimum image dimension\n",
    "\n",
    "    # create circular mask\n",
    "    mask = np.zeros((h, w), dtype=np.uint8)\n",
    "    cv2.circle(mask, (center_x, center_y), radius, color=1, thickness=-1)\n",
    "\n",
    "    # apply mask to image\n",
    "    masked_img = cv2.bitwise_and(img, img, mask=mask)\n",
    "\n",
    "    return masked_img, img   \n"
   ]
  },
  {
   "cell_type": "code",
   "execution_count": 3,
   "metadata": {},
   "outputs": [],
   "source": [
    "def step2(masked_img):\n",
    "    # Convert the image to grayscale\n",
    "    image_gray = color.rgb2gray(masked_img)\n",
    "\n",
    "    # Create a binary mask\n",
    "    mask = image_gray < 0.4\n",
    "\n",
    "    # Apply the mask to the image\n",
    "    image_masked = masked_img.copy()\n",
    "    image_masked[~mask] = 0\n",
    "\n",
    "    # Apply erosion\n",
    "    image_eroded = morphology.binary_erosion(mask)\n",
    "\n",
    "    # Apply dilation\n",
    "    image_dilated = morphology.binary_dilation(image_eroded)\n",
    "\n",
    "    mask_dilated = morphology.binary_dilation(image_dilated, morphology.disk(6))\n",
    "\n",
    "    #put the image in the mask\n",
    "    image_masked = masked_img.copy()\n",
    "    image_masked[~mask_dilated] = 0\n",
    "\n",
    "    return image_masked"
   ]
  },
  {
   "cell_type": "code",
   "execution_count": 4,
   "metadata": {},
   "outputs": [],
   "source": [
    "def step3(image_masked,img):\n",
    "    \n",
    "    # calculate center coordinates and radius of circular mask\n",
    "    (h, w) = img.shape[:2]\n",
    "    (center_x, center_y) = (w // 2, h // 2)\n",
    "    radius = int(min(h, w) * 0.35)  # set radius as 40% of minimum image dimension\n",
    "\n",
    "    # create circular mask\n",
    "    mask = np.zeros((h, w), dtype=np.uint8)\n",
    "    cv2.circle(mask, (center_x, center_y), radius, color=255, thickness=-1)\n",
    "\n",
    "    # apply mask to image\n",
    "    masked2_img = cv2.bitwise_and(image_masked, image_masked, mask=mask)\n",
    "    \n",
    "    return masked2_img"
   ]
  },
  {
   "cell_type": "code",
   "execution_count": 5,
   "metadata": {},
   "outputs": [
    {
     "name": "stdout",
     "output_type": "stream",
     "text": [
      "/Users/bogdancristianmihaila/Desktop/2nd Semester/Github/project2/Project-2-Medical-Imaging/data/images/test_foto_res/resized_point7_2.png\n",
      "/Users/bogdancristianmihaila/Desktop/2nd Semester/Github/project2/Project-2-Medical-Imaging/data/images/test_foto_res/resized_point5_2.png\n",
      "/Users/bogdancristianmihaila/Desktop/2nd Semester/Github/project2/Project-2-Medical-Imaging/data/images/test_foto_res/resized_point5.png\n",
      "/Users/bogdancristianmihaila/Desktop/2nd Semester/Github/project2/Project-2-Medical-Imaging/data/images/test_foto_res/resized_point7.png\n",
      "/Users/bogdancristianmihaila/Desktop/2nd Semester/Github/project2/Project-2-Medical-Imaging/data/images/test_foto_res/resized_point5_maybe.png\n",
      "/Users/bogdancristianmihaila/Desktop/2nd Semester/Github/project2/Project-2-Medical-Imaging/data/images/test_foto_res/resized_nothing.png\n"
     ]
    }
   ],
   "source": [
    "pathfolder = '/Users/bogdancristianmihaila/Desktop/2nd Semester/Github/project2/Project-2-Medical-Imaging/data/images/test_foto_res' #put the path of the folder where you want to save the image\n",
    "\n",
    "# for each images in the folder, we run the function\n",
    "for filename in os.listdir(pathfolder):\n",
    "    if filename.endswith(\".jpg\") or filename.endswith(\".png\"):\n",
    "        print(os.path.join(pathfolder, filename))\n",
    "        x,img=step1(os.path.join(pathfolder, filename))\n",
    "        # save x with the same name +step1\n",
    "        cv2.imwrite(os.path.join(pathfolder, filename[:-4]+'_step1.jpg'), x)\n",
    "        y = step2(x)\n",
    "        # save y with the same name +step2\n",
    "        cv2.imwrite(os.path.join(pathfolder, filename[:-4]+'_step2.jpg'), y)\n",
    "        z = step3(y,img)\n",
    "        # save z with the same name +step3\n",
    "        cv2.imwrite(os.path.join(pathfolder, filename[:-4]+'_step3.jpg'), z)        \n",
    "        continue\n",
    "    else:\n",
    "        continue\n",
    "\n"
   ]
  },
  {
   "cell_type": "code",
   "execution_count": null,
   "metadata": {},
   "outputs": [],
   "source": []
  }
 ],
 "metadata": {
  "kernelspec": {
   "display_name": "Python 3",
   "language": "python",
   "name": "python3"
  },
  "language_info": {
   "codemirror_mode": {
    "name": "ipython",
    "version": 3
   },
   "file_extension": ".py",
   "mimetype": "text/x-python",
   "name": "python",
   "nbconvert_exporter": "python",
   "pygments_lexer": "ipython3",
   "version": "3.9.12"
  },
  "orig_nbformat": 4
 },
 "nbformat": 4,
 "nbformat_minor": 2
}
