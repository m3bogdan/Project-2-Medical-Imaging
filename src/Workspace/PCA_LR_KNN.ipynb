{
 "cells": [
  {
   "cell_type": "code",
   "execution_count": 56,
   "metadata": {},
   "outputs": [],
   "source": [
    "import pandas as pd\n",
    "import os\n",
    "from skimage import io\n",
    "from sklearn.model_selection import train_test_split\n",
    "from sklearn.tree import DecisionTreeClassifier as DTC\n",
    "from sklearn.linear_model import LogisticRegression\n",
    "from sklearn.neighbors import KNeighborsClassifier\n",
    "from sklearn.model_selection import cross_val_score\n",
    "from sklearn.metrics import confusion_matrix, precision_score, recall_score, classification_report, f1_score, roc_auc_score\n",
    "import pickle\n",
    "import Functions2\n",
    "from sklearn.linear_model import LogisticRegression as LR\n",
    "from sklearn.neighbors import KNeighborsClassifier as KNN\n",
    "from sklearn.metrics import confusion_matrix, precision_score, recall_score, f1_score, roc_auc_score, classification_report"
   ]
  },
  {
   "cell_type": "code",
   "execution_count": 61,
   "metadata": {},
   "outputs": [
    {
     "ename": "KeyError",
     "evalue": "\"['diagnostic'] not in index\"",
     "output_type": "error",
     "traceback": [
      "\u001b[0;31m---------------------------------------------------------------------------\u001b[0m",
      "\u001b[0;31mKeyError\u001b[0m                                  Traceback (most recent call last)",
      "\u001b[1;32m/Users/bogdancristianmihaila/Desktop/2nd Semester/Github/project2/Project-2-Medical-Imaging/src/Workspace/PCA_LR_KNN.ipynb Cell 2\u001b[0m in \u001b[0;36m4\n\u001b[1;32m      <a href='vscode-notebook-cell:/Users/bogdancristianmihaila/Desktop/2nd%20Semester/Github/project2/Project-2-Medical-Imaging/src/Workspace/PCA_LR_KNN.ipynb#W1sZmlsZQ%3D%3D?line=0'>1</a>\u001b[0m data_path \u001b[39m=\u001b[39m \u001b[39mr\u001b[39m\u001b[39m\"\u001b[39m\u001b[39m/Users/bogdancristianmihaila/Desktop/2nd Semester/Github/project2/Project-2-Medical-Imaging/data/helpme/newdata.csv\u001b[39m\u001b[39m\"\u001b[39m\n\u001b[1;32m      <a href='vscode-notebook-cell:/Users/bogdancristianmihaila/Desktop/2nd%20Semester/Github/project2/Project-2-Medical-Imaging/src/Workspace/PCA_LR_KNN.ipynb#W1sZmlsZQ%3D%3D?line=1'>2</a>\u001b[0m df \u001b[39m=\u001b[39m pd\u001b[39m.\u001b[39mread_csv(data_path)\n\u001b[0;32m----> <a href='vscode-notebook-cell:/Users/bogdancristianmihaila/Desktop/2nd%20Semester/Github/project2/Project-2-Medical-Imaging/src/Workspace/PCA_LR_KNN.ipynb#W1sZmlsZQ%3D%3D?line=3'>4</a>\u001b[0m new_df \u001b[39m=\u001b[39m df[[\u001b[39m'\u001b[39;49m\u001b[39mimage\u001b[39;49m\u001b[39m'\u001b[39;49m, \u001b[39m'\u001b[39;49m\u001b[39mdiagnostic\u001b[39;49m\u001b[39m'\u001b[39;49m]]\u001b[39m.\u001b[39mcopy()\n\u001b[1;32m      <a href='vscode-notebook-cell:/Users/bogdancristianmihaila/Desktop/2nd%20Semester/Github/project2/Project-2-Medical-Imaging/src/Workspace/PCA_LR_KNN.ipynb#W1sZmlsZQ%3D%3D?line=4'>5</a>\u001b[0m diagnostic_mapping \u001b[39m=\u001b[39m {\u001b[39m'\u001b[39m\u001b[39mMEL\u001b[39m\u001b[39m'\u001b[39m: \u001b[39m1\u001b[39m, \u001b[39m'\u001b[39m\u001b[39mNV\u001b[39m\u001b[39m'\u001b[39m: \u001b[39m0\u001b[39m, \u001b[39m'\u001b[39m\u001b[39mBCC\u001b[39m\u001b[39m'\u001b[39m: \u001b[39m1\u001b[39m, \u001b[39m'\u001b[39m\u001b[39mAKIEC\u001b[39m\u001b[39m'\u001b[39m: \u001b[39m0\u001b[39m, \u001b[39m'\u001b[39m\u001b[39mBKL\u001b[39m\u001b[39m'\u001b[39m: \u001b[39m0\u001b[39m, \u001b[39m'\u001b[39m\u001b[39mDF\u001b[39m\u001b[39m'\u001b[39m: \u001b[39m0\u001b[39m, \u001b[39m'\u001b[39m\u001b[39mVASC\u001b[39m\u001b[39m'\u001b[39m: \u001b[39m0\u001b[39m}\n\u001b[1;32m      <a href='vscode-notebook-cell:/Users/bogdancristianmihaila/Desktop/2nd%20Semester/Github/project2/Project-2-Medical-Imaging/src/Workspace/PCA_LR_KNN.ipynb#W1sZmlsZQ%3D%3D?line=5'>6</a>\u001b[0m new_df[\u001b[39m'\u001b[39m\u001b[39mdiagnostic\u001b[39m\u001b[39m'\u001b[39m] \u001b[39m=\u001b[39m new_df[\u001b[39m'\u001b[39m\u001b[39mdiagnostic\u001b[39m\u001b[39m'\u001b[39m]\u001b[39m.\u001b[39mmap(diagnostic_mapping)\n",
      "File \u001b[0;32m/Library/Frameworks/Python.framework/Versions/3.10/lib/python3.10/site-packages/pandas/core/frame.py:3767\u001b[0m, in \u001b[0;36mDataFrame.__getitem__\u001b[0;34m(self, key)\u001b[0m\n\u001b[1;32m   3765\u001b[0m     \u001b[39mif\u001b[39;00m is_iterator(key):\n\u001b[1;32m   3766\u001b[0m         key \u001b[39m=\u001b[39m \u001b[39mlist\u001b[39m(key)\n\u001b[0;32m-> 3767\u001b[0m     indexer \u001b[39m=\u001b[39m \u001b[39mself\u001b[39;49m\u001b[39m.\u001b[39;49mcolumns\u001b[39m.\u001b[39;49m_get_indexer_strict(key, \u001b[39m\"\u001b[39;49m\u001b[39mcolumns\u001b[39;49m\u001b[39m\"\u001b[39;49m)[\u001b[39m1\u001b[39m]\n\u001b[1;32m   3769\u001b[0m \u001b[39m# take() does not accept boolean indexers\u001b[39;00m\n\u001b[1;32m   3770\u001b[0m \u001b[39mif\u001b[39;00m \u001b[39mgetattr\u001b[39m(indexer, \u001b[39m\"\u001b[39m\u001b[39mdtype\u001b[39m\u001b[39m\"\u001b[39m, \u001b[39mNone\u001b[39;00m) \u001b[39m==\u001b[39m \u001b[39mbool\u001b[39m:\n",
      "File \u001b[0;32m/Library/Frameworks/Python.framework/Versions/3.10/lib/python3.10/site-packages/pandas/core/indexes/base.py:5876\u001b[0m, in \u001b[0;36mIndex._get_indexer_strict\u001b[0;34m(self, key, axis_name)\u001b[0m\n\u001b[1;32m   5873\u001b[0m \u001b[39melse\u001b[39;00m:\n\u001b[1;32m   5874\u001b[0m     keyarr, indexer, new_indexer \u001b[39m=\u001b[39m \u001b[39mself\u001b[39m\u001b[39m.\u001b[39m_reindex_non_unique(keyarr)\n\u001b[0;32m-> 5876\u001b[0m \u001b[39mself\u001b[39;49m\u001b[39m.\u001b[39;49m_raise_if_missing(keyarr, indexer, axis_name)\n\u001b[1;32m   5878\u001b[0m keyarr \u001b[39m=\u001b[39m \u001b[39mself\u001b[39m\u001b[39m.\u001b[39mtake(indexer)\n\u001b[1;32m   5879\u001b[0m \u001b[39mif\u001b[39;00m \u001b[39misinstance\u001b[39m(key, Index):\n\u001b[1;32m   5880\u001b[0m     \u001b[39m# GH 42790 - Preserve name from an Index\u001b[39;00m\n",
      "File \u001b[0;32m/Library/Frameworks/Python.framework/Versions/3.10/lib/python3.10/site-packages/pandas/core/indexes/base.py:5938\u001b[0m, in \u001b[0;36mIndex._raise_if_missing\u001b[0;34m(self, key, indexer, axis_name)\u001b[0m\n\u001b[1;32m   5935\u001b[0m     \u001b[39mraise\u001b[39;00m \u001b[39mKeyError\u001b[39;00m(\u001b[39mf\u001b[39m\u001b[39m\"\u001b[39m\u001b[39mNone of [\u001b[39m\u001b[39m{\u001b[39;00mkey\u001b[39m}\u001b[39;00m\u001b[39m] are in the [\u001b[39m\u001b[39m{\u001b[39;00maxis_name\u001b[39m}\u001b[39;00m\u001b[39m]\u001b[39m\u001b[39m\"\u001b[39m)\n\u001b[1;32m   5937\u001b[0m not_found \u001b[39m=\u001b[39m \u001b[39mlist\u001b[39m(ensure_index(key)[missing_mask\u001b[39m.\u001b[39mnonzero()[\u001b[39m0\u001b[39m]]\u001b[39m.\u001b[39munique())\n\u001b[0;32m-> 5938\u001b[0m \u001b[39mraise\u001b[39;00m \u001b[39mKeyError\u001b[39;00m(\u001b[39mf\u001b[39m\u001b[39m\"\u001b[39m\u001b[39m{\u001b[39;00mnot_found\u001b[39m}\u001b[39;00m\u001b[39m not in index\u001b[39m\u001b[39m\"\u001b[39m)\n",
      "\u001b[0;31mKeyError\u001b[0m: \"['diagnostic'] not in index\""
     ]
    }
   ],
   "source": [
    "\n",
    "data_path = r\"/Users/bogdancristianmihaila/Desktop/2nd Semester/Github/project2/Project-2-Medical-Imaging/data/helpme/newdata.csv\"\n",
    "df = pd.read_csv(data_path)\n",
    "\n",
    "new_df = df[['image', 'diagnostic']].copy()\n",
    "diagnostic_mapping = {'MEL': 1, 'NV': 0, 'BCC': 1, 'AKIEC': 0, 'BKL': 0, 'DF': 0, 'VASC': 0}\n",
    "new_df['diagnostic'] = new_df['diagnostic'].map(diagnostic_mapping)"
   ]
  },
  {
   "cell_type": "code",
   "execution_count": null,
   "metadata": {},
   "outputs": [],
   "source": [
    "# Define the function to extract features\n",
    "def extract_features(folder_path):\n",
    "    feature_1 = []\n",
    "    feature_2 = []\n",
    "    feature_3 = []\n",
    "    feature_4 = []\n",
    "    feature_5 = []\n",
    "    feature_6 = []\n",
    "    feature_7 = []\n",
    "\n",
    "    for filename in os.listdir(folder_path):\n",
    "        if filename.endswith('.jpg') or filename.endswith('.png'):\n",
    "            image_path = os.path.join(folder_path, filename)\n",
    "            original = io.imread(image_path)\n",
    "\n",
    "            # Ignore the alpha channel (e.g. transparency)\n",
    "            if original.shape[-1] == 4:\n",
    "                original = original[..., :3]\n",
    "\n",
    "            feature_1.append(Functions2.measure_pigment_network(original))\n",
    "            feature_2.append(Functions2.measure_blue_veil(original))\n",
    "            feature_3.append(Functions2.measure_vascular(original))\n",
    "            feature_4.append(Functions2.measure_globules(original))\n",
    "            feature_5.append(Functions2.measure_streaks(original))\n",
    "            feature_6.append(Functions2.measure_irregular_pigmentation(original))\n",
    "            feature_7.append(Functions2.measure_regression(original))\n",
    "\n",
    "    return feature_1, feature_2, feature_3, feature_4, feature_5, feature_6, feature_7"
   ]
  },
  {
   "cell_type": "code",
   "execution_count": null,
   "metadata": {},
   "outputs": [],
   "source": [
    "# Define the folder path for image processing\n",
    "folder_path_in = r\"/Users/bogdancristianmihaila/Desktop/2nd Semester/Github/project2/Project-2-Medical-Imaging/data/images/Masks/Color_mask/107images\"\n",
    "\n",
    "# Extract features from the images\n",
    "feature_1, feature_2, feature_3, feature_4, feature_5, feature_6, feature_7 = extract_features(folder_path_in)"
   ]
  },
  {
   "cell_type": "code",
   "execution_count": null,
   "metadata": {},
   "outputs": [],
   "source": [
    "# Create a DataFrame for the features\n",
    "features_df = pd.DataFrame()\n",
    "features_df[\"img_id\"] = [filename for filename in os.listdir(folder_path_in) if filename.endswith(('.jpg', '.png'))]\n",
    "features_df[\"1: pigment network\"] = feature_1\n",
    "features_df[\"2: Blue veil\"] = feature_2\n",
    "features_df[\"3: Vascular\"] = feature_3\n",
    "features_df[\"4: Globules\"] = feature_4\n",
    "features_df[\"5: Streaks\"] = feature_5\n",
    "features_df[\"6: Pigmentation\"] = feature_6\n",
    "features_df[\"7: Regression\"] = feature_7\n",
    "\n",
    "# Merge the features DataFrame with the diagnostic column from the original DataFrame\n",
    "df_merged = pd.merge(df[['img_id', 'diagnostic']], features_df, on='img_id', how='inner')"
   ]
  },
  {
   "cell_type": "code",
   "execution_count": null,
   "metadata": {},
   "outputs": [],
   "source": [
    "# Split the data into training and testing sets\n",
    "X = df_merged.drop(['img_id', 'diagnostic'], axis=1)\n",
    "Y = df_merged['diagnostic']\n",
    "#X_train, X_test, Y_train, Y_test = train_test_split(X, Y, test_size=0.5)"
   ]
  },
  {
   "attachments": {},
   "cell_type": "markdown",
   "metadata": {},
   "source": [
    "### Training classifiers without PCA"
   ]
  },
  {
   "cell_type": "code",
   "execution_count": null,
   "metadata": {},
   "outputs": [
    {
     "name": "stdout",
     "output_type": "stream",
     "text": [
      "Classifier: LogisticRegression\n",
      "F1 score: 0.616822429906542\n",
      "Precision: 0.6226415094339622\n",
      "Recall/Sensitivity: 0.6111111111111112\n",
      "Specificity: 0.6226415094339622\n",
      "Confusion Matrix:\n",
      "[[33 20]\n",
      " [21 33]]\n",
      "\n",
      "Classifier: KNeighborsClassifier\n",
      "F1 score: 0.6666666666666666\n",
      "Precision: 0.6862745098039216\n",
      "Recall/Sensitivity: 0.6481481481481481\n",
      "Specificity: 0.6981132075471698\n",
      "Confusion Matrix:\n",
      "[[37 16]\n",
      " [19 35]]\n",
      "\n",
      "Classifier: DecisionTreeClassifier\n",
      "F1 score: 0.5142857142857143\n",
      "Precision: 0.5294117647058824\n",
      "Recall/Sensitivity: 0.5\n",
      "Specificity: 0.5471698113207547\n",
      "Confusion Matrix:\n",
      "[[29 24]\n",
      " [27 27]]\n",
      "\n"
     ]
    },
    {
     "name": "stderr",
     "output_type": "stream",
     "text": [
      "/Library/Frameworks/Python.framework/Versions/3.10/lib/python3.10/site-packages/sklearn/linear_model/_logistic.py:458: ConvergenceWarning: lbfgs failed to converge (status=1):\n",
      "STOP: TOTAL NO. of ITERATIONS REACHED LIMIT.\n",
      "\n",
      "Increase the number of iterations (max_iter) or scale the data as shown in:\n",
      "    https://scikit-learn.org/stable/modules/preprocessing.html\n",
      "Please also refer to the documentation for alternative solver options:\n",
      "    https://scikit-learn.org/stable/modules/linear_model.html#logistic-regression\n",
      "  n_iter_i = _check_optimize_result(\n"
     ]
    }
   ],
   "source": [
    "import numpy as np\n",
    "from sklearn.model_selection import cross_val_predict\n",
    "from sklearn.metrics import f1_score, confusion_matrix, precision_score, recall_score\n",
    "\n",
    "classifiers = [LR(), KNN(), DTC()]  # Replace with your trained classifiers\n",
    "\n",
    "# Perform cross-validation for each classifier\n",
    "for classifier in classifiers:\n",
    "    y_pred = cross_val_predict(classifier, X, Y, cv=5)  # Change cv value as per your requirement\n",
    "    \n",
    "    # Calculate evaluation metrics\n",
    "    f1 = f1_score(Y, y_pred)\n",
    "    precision = precision_score(Y, y_pred)\n",
    "    recall = recall_score(Y, y_pred)\n",
    "    tn, fp, fn, tp = confusion_matrix(Y, y_pred).ravel()\n",
    "    specificity = tn / (tn + fp)\n",
    "    \n",
    "    print(f\"Classifier: {type(classifier).__name__}\")\n",
    "    print(f\"F1 score: {f1}\")\n",
    "    print(f\"Precision: {precision}\")\n",
    "    print(f\"Recall/Sensitivity: {recall}\")\n",
    "    print(f\"Specificity: {specificity}\")\n",
    "    print(\"Confusion Matrix:\")\n",
    "    print(confusion_matrix(Y, y_pred))\n",
    "    print()\n"
   ]
  },
  {
   "attachments": {},
   "cell_type": "markdown",
   "metadata": {},
   "source": [
    "### Training classifiers with PCA"
   ]
  },
  {
   "cell_type": "code",
   "execution_count": null,
   "metadata": {},
   "outputs": [
    {
     "name": "stdout",
     "output_type": "stream",
     "text": [
      "Classifier: LogisticRegression\n",
      "F1 score: 0.5333333333333333\n",
      "Precision: 0.6666666666666666\n",
      "Recall/Sensitivity: 0.4444444444444444\n",
      "Specificity: 0.7735849056603774\n",
      "Confusion Matrix:\n",
      "[[41 12]\n",
      " [30 24]]\n",
      "\n",
      "Classifier: KNeighborsClassifier\n",
      "F1 score: 0.6666666666666666\n",
      "Precision: 0.6862745098039216\n",
      "Recall/Sensitivity: 0.6481481481481481\n",
      "Specificity: 0.6981132075471698\n",
      "Confusion Matrix:\n",
      "[[37 16]\n",
      " [19 35]]\n",
      "\n",
      "Classifier: DecisionTreeClassifier\n",
      "F1 score: 0.5555555555555556\n",
      "Precision: 0.5555555555555556\n",
      "Recall/Sensitivity: 0.5555555555555556\n",
      "Specificity: 0.5471698113207547\n",
      "Confusion Matrix:\n",
      "[[29 24]\n",
      " [24 30]]\n",
      "\n"
     ]
    }
   ],
   "source": [
    "import numpy as np\n",
    "from sklearn.model_selection import cross_val_predict\n",
    "from sklearn.metrics import f1_score, confusion_matrix, precision_score, recall_score\n",
    "from sklearn.decomposition import PCA\n",
    "\n",
    "classifiers = [LR(), KNN(), DTC()]  # Replace with your trained classifiers\n",
    "\n",
    "# Perform PCA\n",
    "pca = PCA(n_components=2)  # Adjust the number of components as per your requirement\n",
    "X_pca = pca.fit_transform(X)\n",
    "\n",
    "# Perform cross-validation for each classifier\n",
    "for classifier in classifiers:\n",
    "    y_pred = cross_val_predict(classifier, X_pca, Y, cv=5)  # Change cv value as per your requirement\n",
    "    \n",
    "    # Calculate evaluation metrics\n",
    "    f1 = f1_score(Y, y_pred)\n",
    "    precision = precision_score(Y, y_pred)\n",
    "    recall = recall_score(Y, y_pred)\n",
    "    tn, fp, fn, tp = confusion_matrix(Y, y_pred).ravel()\n",
    "    specificity = tn / (tn + fp)\n",
    "    \n",
    "    print(f\"Classifier: {type(classifier).__name__}\")\n",
    "    print(f\"F1 score: {f1}\")\n",
    "    print(f\"Precision: {precision}\")\n",
    "    print(f\"Recall/Sensitivity: {recall}\")\n",
    "    print(f\"Specificity: {specificity}\")\n",
    "    print(\"Confusion Matrix:\")\n",
    "    print(confusion_matrix(Y, y_pred))\n",
    "    print()"
   ]
  },
  {
   "attachments": {},
   "cell_type": "markdown",
   "metadata": {},
   "source": [
    "***Saving the models***"
   ]
  },
  {
   "cell_type": "code",
   "execution_count": null,
   "metadata": {},
   "outputs": [],
   "source": [
    "# import pickle\n",
    "\n",
    "# # In the path where you want to save the models\n",
    "# path = r'/Users/bogdancristianmihaila/Desktop/2nd Semester/Github/project2/Project-2-Medical-Imaging/Pickle/pickle_107images/no_pca_models'\n",
    "\n",
    "# # Save the models\n",
    "# pickle.dump(LR, open(path + r'\\LR.pkl', 'wb'))\n",
    "# pickle.dump(KNN, open(path + r'\\KNN.pkl', 'wb'))\n",
    "# pickle.dump(DTC, open(path + r'\\DTC.pkl', 'wb'))\n",
    "# #pickle.dump(xgb.XGBRFClassifier, open(path + r'\\xgb.XGBRFClassifier.pkl', 'wb'))\n"
   ]
  }
 ],
 "metadata": {
  "kernelspec": {
   "display_name": "New",
   "language": "python",
   "name": "python3"
  },
  "language_info": {
   "codemirror_mode": {
    "name": "ipython",
    "version": 3
   },
   "file_extension": ".py",
   "mimetype": "text/x-python",
   "name": "python",
   "nbconvert_exporter": "python",
   "pygments_lexer": "ipython3",
   "version": "3.10.3"
  },
  "orig_nbformat": 4
 },
 "nbformat": 4,
 "nbformat_minor": 2
}
