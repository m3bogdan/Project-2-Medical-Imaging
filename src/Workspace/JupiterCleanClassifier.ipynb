{
 "cells": [
  {
   "cell_type": "code",
   "execution_count": 2,
   "metadata": {},
   "outputs": [],
   "source": [
    "import pandas as pd\n",
    "import os\n",
    "from skimage import io\n",
    "from sklearn.model_selection import train_test_split\n",
    "from sklearn.tree import DecisionTreeClassifier\n",
    "from sklearn.linear_model import LogisticRegression\n",
    "from sklearn.neighbors import KNeighborsClassifier\n",
    "from sklearn.model_selection import cross_val_score\n",
    "from sklearn.metrics import confusion_matrix, precision_score, recall_score, classification_report, f1_score, roc_auc_score\n",
    "import pickle\n",
    "import Functions2\n",
    "from sklearn.linear_model import LogisticRegression\n",
    "from sklearn.neighbors import KNeighborsClassifier\n",
    "from sklearn.metrics import confusion_matrix, precision_score, recall_score, f1_score, roc_auc_score, classification_report"
   ]
  },
  {
   "cell_type": "code",
   "execution_count": 3,
   "metadata": {},
   "outputs": [],
   "source": [
    "# Load the data\n",
    "data_path = r\"C:\\Users\\serru\\OneDrive\\Documents\\Project2\\Project-2-Medical-Imaging\\data\\full_data.csv\"\n",
    "df = pd.read_csv(data_path)\n",
    "\n",
    "# Preprocess the diagnostic column\n",
    "df['diagnostic'] = df['diagnostic'].map({'BCC': 1, 'MEL': 1, 'SCC': 1, 'ACK': 0, 'NEV': 0, 'SEK': 0})"
   ]
  },
  {
   "cell_type": "code",
   "execution_count": 4,
   "metadata": {},
   "outputs": [],
   "source": [
    "# Define the function to extract features\n",
    "def extract_features(folder_path):\n",
    "    feature_1 = []\n",
    "    feature_2 = []\n",
    "    feature_3 = []\n",
    "    feature_4 = []\n",
    "    feature_5 = []\n",
    "    feature_6 = []\n",
    "    feature_7 = []\n",
    "\n",
    "    for filename in os.listdir(folder_path):\n",
    "        if filename.endswith('.jpg') or filename.endswith('.png'):\n",
    "            image_path = os.path.join(folder_path, filename)\n",
    "            original = io.imread(image_path)\n",
    "\n",
    "            # Ignore the alpha channel (e.g. transparency)\n",
    "            if original.shape[-1] == 4:\n",
    "                original = original[..., :3]\n",
    "\n",
    "            feature_1.append(Functions2.measure_pigment_network(original))\n",
    "            feature_2.append(Functions2.measure_blue_veil(original))\n",
    "            feature_3.append(Functions2.measure_vascular(original))\n",
    "            feature_4.append(Functions2.measure_globules(original))\n",
    "            feature_5.append(Functions2.measure_streaks(original))\n",
    "            feature_6.append(Functions2.measure_irregular_pigmentation(original))\n",
    "            feature_7.append(Functions2.measure_regression(original))\n",
    "\n",
    "    return feature_1, feature_2, feature_3, feature_4, feature_5, feature_6, feature_7"
   ]
  },
  {
   "cell_type": "code",
   "execution_count": 5,
   "metadata": {},
   "outputs": [],
   "source": [
    "# Define the folder path for image processing\n",
    "folder_path_in = r\"C:\\Users\\serru\\OneDrive\\Documents\\Project2\\Project-2-Medical-Imaging\\data\\ColorMask\\Training\"\n",
    "\n",
    "# Extract features from the images\n",
    "feature_1, feature_2, feature_3, feature_4, feature_5, feature_6, feature_7 = extract_features(folder_path_in)"
   ]
  },
  {
   "cell_type": "code",
   "execution_count": 6,
   "metadata": {},
   "outputs": [],
   "source": [
    "# Create a DataFrame for the features\n",
    "features_df = pd.DataFrame()\n",
    "features_df[\"img_id\"] = [filename for filename in os.listdir(folder_path_in) if filename.endswith(('.jpg', '.png'))]\n",
    "features_df[\"1: pigment network\"] = feature_1\n",
    "features_df[\"2: Blue veil\"] = feature_2\n",
    "features_df[\"3: Vascular\"] = feature_3\n",
    "features_df[\"4: Globules\"] = feature_4\n",
    "features_df[\"5: Streaks\"] = feature_5\n",
    "features_df[\"6: Pigmentation\"] = feature_6\n",
    "features_df[\"7: Regression\"] = feature_7\n",
    "\n",
    "# Merge the features DataFrame with the diagnostic column from the original DataFrame\n",
    "df_merged = pd.merge(df[['img_id', 'diagnostic']], features_df, on='img_id', how='inner')"
   ]
  },
  {
   "cell_type": "code",
   "execution_count": 7,
   "metadata": {},
   "outputs": [],
   "source": [
    "# Split the data into training and testing sets\n",
    "X = df_merged.drop(['img_id', 'diagnostic'], axis=1)\n",
    "Y = df_merged['diagnostic']\n",
    "X_train, X_test, Y_train, Y_test = train_test_split(X, Y, test_size=0.5)"
   ]
  },
  {
   "cell_type": "code",
   "execution_count": 8,
   "metadata": {},
   "outputs": [
    {
     "name": "stdout",
     "output_type": "stream",
     "text": [
      "Logistic Regression:\n",
      "Confusion Matrix:\n",
      "[[15  6]\n",
      " [ 6 17]]\n",
      "Precision: 0.7391304347826086\n",
      "Recall: 0.7391304347826086\n",
      "F1 Score: 0.7391304347826085\n",
      "AUC-ROC Score: 0.7267080745341614\n",
      "Classification Report:\n",
      "              precision    recall  f1-score   support\n",
      "\n",
      "           0       0.71      0.71      0.71        21\n",
      "           1       0.74      0.74      0.74        23\n",
      "\n",
      "    accuracy                           0.73        44\n",
      "   macro avg       0.73      0.73      0.73        44\n",
      "weighted avg       0.73      0.73      0.73        44\n",
      "\n"
     ]
    }
   ],
   "source": [
    "# Logistic Regression\n",
    "logreg_classifier = LogisticRegression()\n",
    "logreg_classifier.fit(X_train, Y_train)\n",
    "logreg_prediction = logreg_classifier.predict(X_test)\n",
    "\n",
    "# Evaluate Logistic Regression\n",
    "logreg_cm = confusion_matrix(Y_test, logreg_prediction)\n",
    "logreg_precision = precision_score(Y_test, logreg_prediction)\n",
    "logreg_recall = recall_score(Y_test, logreg_prediction)\n",
    "logreg_f1 = f1_score(Y_test, logreg_prediction)\n",
    "logreg_auc_roc = roc_auc_score(Y_test, logreg_prediction)\n",
    "logreg_classification_rep = classification_report(Y_test, logreg_prediction)\n",
    "\n",
    "# Print Logistic Regression evaluation metrics\n",
    "print(\"Logistic Regression:\")\n",
    "print(\"Confusion Matrix:\")\n",
    "print(logreg_cm)\n",
    "print(\"Precision:\", logreg_precision)\n",
    "print(\"Recall:\", logreg_recall)\n",
    "print(\"F1 Score:\", logreg_f1)\n",
    "print(\"AUC-ROC Score:\", logreg_auc_roc)\n",
    "print(\"Classification Report:\")\n",
    "print(logreg_classification_rep)"
   ]
  },
  {
   "cell_type": "code",
   "execution_count": 9,
   "metadata": {},
   "outputs": [
    {
     "ename": "NameError",
     "evalue": "name 'knn_classifier' is not defined",
     "output_type": "error",
     "traceback": [
      "\u001b[1;31m---------------------------------------------------------------------------\u001b[0m",
      "\u001b[1;31mNameError\u001b[0m                                 Traceback (most recent call last)",
      "Cell \u001b[1;32mIn[9], line 7\u001b[0m\n\u001b[0;32m      5\u001b[0m \u001b[39m# Save KNN model\u001b[39;00m\n\u001b[0;32m      6\u001b[0m \u001b[39mwith\u001b[39;00m \u001b[39mopen\u001b[39m(\u001b[39mr\u001b[39m\u001b[39m'\u001b[39m\u001b[39mC:\u001b[39m\u001b[39m\\\u001b[39m\u001b[39mUsers\u001b[39m\u001b[39m\\\u001b[39m\u001b[39mserru\u001b[39m\u001b[39m\\\u001b[39m\u001b[39mOneDrive\u001b[39m\u001b[39m\\\u001b[39m\u001b[39mDocuments\u001b[39m\u001b[39m\\\u001b[39m\u001b[39mProject2\u001b[39m\u001b[39m\\\u001b[39m\u001b[39mProject-2-Medical-Imaging\u001b[39m\u001b[39m\\\u001b[39m\u001b[39mPickle\u001b[39m\u001b[39m\\\u001b[39m\u001b[39mknn_model.pkl\u001b[39m\u001b[39m'\u001b[39m, \u001b[39m'\u001b[39m\u001b[39mwb\u001b[39m\u001b[39m'\u001b[39m) \u001b[39mas\u001b[39;00m file:\n\u001b[1;32m----> 7\u001b[0m     pickle\u001b[39m.\u001b[39mdump(knn_classifier, file)\n",
      "\u001b[1;31mNameError\u001b[0m: name 'knn_classifier' is not defined"
     ]
    }
   ],
   "source": [
    "# Save LR model\n",
    "with open(r'C:\\Users\\serru\\OneDrive\\Documents\\Project2\\Project-2-Medical-Imaging\\Pickle\\logreg_model.pkl', 'wb') as file:\n",
    "    pickle.dump(logreg_classifier, file)\n",
    "\n",
    "# Save KNN model\n",
    "with open(r'C:\\Users\\serru\\OneDrive\\Documents\\Project2\\Project-2-Medical-Imaging\\Pickle\\knn_model.pkl', 'wb') as file:\n",
    "    pickle.dump(knn_classifier, file)"
   ]
  },
  {
   "cell_type": "code",
   "execution_count": 10,
   "metadata": {},
   "outputs": [
    {
     "name": "stdout",
     "output_type": "stream",
     "text": [
      "                  img_id  diagnostic\n",
      "0    PAT_109_868_723.png           1\n",
      "1    PAT_236_361_180.png           0\n",
      "2      PAT_26_37_865.png           0\n",
      "3    PAT_270_417_257.png           1\n",
      "4   PAT_333_1469_499.png           0\n",
      "5      PAT_38_54_234.png           1\n",
      "6    PAT_398_799_163.png           0\n",
      "7       PAT_42_58_13.png           1\n",
      "8      PAT_56_86_479.png           1\n",
      "9      PAT_59_46_537.png           0\n",
      "10   PAT_76_1039_269.png           0\n",
      "11    PAT_998_17_641.png           0\n"
     ]
    }
   ],
   "source": [
    "# Predict the diagnostic for the test set\n",
    "test_path = r\"C:\\Users\\serru\\OneDrive\\Documents\\Project2\\Project-2-Medical-Imaging\\data\\ColorMask\\Test\"\n",
    "test_feature_1, test_feature_2, test_feature_3, test_feature_4, test_feature_5, test_feature_6, test_feature_7 = extract_features(test_path)\n",
    "test_features_df = pd.DataFrame()\n",
    "test_features_df[\"img_id\"] = [filename for filename in os.listdir(test_path) if filename.endswith(('.jpg', '.png'))]\n",
    "test_features_df[\"1: pigment network\"] = test_feature_1\n",
    "test_features_df[\"2: Blue veil\"] = test_feature_2\n",
    "test_features_df[\"3: Vascular\"] = test_feature_3\n",
    "test_features_df[\"4: Globules\"] = test_feature_4\n",
    "test_features_df[\"5: Streaks\"] = test_feature_5\n",
    "test_features_df[\"6: Pigmentation\"] = test_feature_6\n",
    "test_features_df[\"7: Regression\"] = test_feature_7\n",
    "\n",
    "# Load the model\n",
    "with open(r'C:\\Users\\serru\\OneDrive\\Documents\\Project2\\Project-2-Medical-Imaging\\Pickle\\logreg_model.pkl', 'rb') as file:\n",
    "    logreg_model = pickle.load(file)\n",
    "\n",
    "# Predict the diagnostic for the test set\n",
    "test_X = test_features_df.drop(['img_id'], axis=1)\n",
    "test_Y = logreg_model.predict(test_X)\n",
    "\n",
    "# Create a DataFrame for the predictions\n",
    "test_predictions_df = pd.DataFrame()\n",
    "test_predictions_df[\"img_id\"] = test_features_df[\"img_id\"]\n",
    "test_predictions_df[\"diagnostic\"] = test_Y\n",
    "\n",
    "# Print the predictions\n",
    "print(test_predictions_df)"
   ]
  },
  {
   "cell_type": "code",
   "execution_count": 11,
   "metadata": {},
   "outputs": [
    {
     "name": "stdout",
     "output_type": "stream",
     "text": [
      "            1: pigment network  2: Blue veil  3: Vascular  4: Globules  \\\n",
      "diagnostic                                                               \n",
      "0                     9.484829   5065.066667  2642.711111    59.022222   \n",
      "1                     8.262954   6085.093023  3373.953488    83.813953   \n",
      "\n",
      "            5: Streaks  6: Pigmentation  7: Regression  \n",
      "diagnostic                                              \n",
      "0             1.247442        13.459710     695.400000  \n",
      "1             1.273240        11.654273     374.906977  \n"
     ]
    }
   ],
   "source": [
    "# Find the mean of the features for each diagnostic\n",
    "df_mean = df_merged.groupby('diagnostic').mean()\n",
    "print(df_mean)"
   ]
  },
  {
   "cell_type": "code",
   "execution_count": 14,
   "metadata": {},
   "outputs": [
    {
     "name": "stdout",
     "output_type": "stream",
     "text": [
      "Feature Importance Scores for Logistic Regression:\n",
      "Feature 5: 2.2204460492503132e-17\n",
      "Feature 7: 0.0\n",
      "Feature 4: -0.004545454545454508\n",
      "Feature 2: -0.011363636363636343\n",
      "Feature 1: -0.020454545454545402\n",
      "Feature 6: -0.020454545454545427\n",
      "Feature 3: -0.027272727272727226\n",
      "Feature Importance Scores for K-Nearest Neighbors:\n",
      "Feature 2: 0.12954545454545446\n",
      "Feature 7: 0.0022727272727272483\n",
      "Feature 6: 0.0\n",
      "Feature 5: 0.0\n",
      "Feature 4: 0.0\n",
      "Feature 1: 0.0\n",
      "Feature 3: -0.013636363636363691\n"
     ]
    }
   ],
   "source": [
    "import numpy as np\n",
    "from sklearn.model_selection import train_test_split\n",
    "from sklearn.linear_model import LogisticRegression\n",
    "from sklearn.neighbors import KNeighborsClassifier\n",
    "from sklearn.inspection import permutation_importance\n",
    "\n",
    "# Assuming you have your data in X and y variables\n",
    "# X should be a 2D array-like object with shape (n_samples, n_features)\n",
    "# y should be a 1D array-like object with shape (n_samples,)\n",
    "\n",
    "# Split the data into train and test sets\n",
    "X_train, X_test, y_train, y_test = train_test_split(X, Y, test_size=0.5, random_state=42)\n",
    "\n",
    "# Initialize and train a logistic regression classifier\n",
    "lr = LogisticRegression()\n",
    "lr.fit(X_train, y_train)\n",
    "\n",
    "# Perform permutation importance for logistic regression\n",
    "result_lr = permutation_importance(lr, X_test, y_test, n_repeats=10, random_state=42)\n",
    "\n",
    "# Get the feature importance scores for logistic regression\n",
    "importance_scores_lr = result_lr.importances_mean\n",
    "\n",
    "# Sort the feature indices based on importance scores in descending order for logistic regression\n",
    "sorted_indices_lr = np.argsort(importance_scores_lr)[::-1]\n",
    "\n",
    "# Initialize and train a k-nearest neighbors classifier\n",
    "knn = KNeighborsClassifier()\n",
    "knn.fit(X_train, y_train)\n",
    "\n",
    "# Perform permutation importance for k-nearest neighbors\n",
    "result_knn = permutation_importance(knn, X_test, y_test, n_repeats=10, random_state=42)\n",
    "\n",
    "# Get the feature importance scores for k-nearest neighbors\n",
    "importance_scores_knn = result_knn.importances_mean\n",
    "\n",
    "# Sort the feature indices based on importance scores in descending order for k-nearest neighbors\n",
    "sorted_indices_knn = np.argsort(importance_scores_knn)[::-1]\n",
    "\n",
    "# Print the sorted features and their importance scores for logistic regression\n",
    "print(\"Feature Importance Scores for Logistic Regression:\")\n",
    "for i in sorted_indices_lr:\n",
    "    print(f\"Feature {i+1}: {importance_scores_lr[i]}\")\n",
    "\n",
    "# Print the sorted features and their importance scores for k-nearest neighbors\n",
    "print(\"Feature Importance Scores for K-Nearest Neighbors:\")\n",
    "for i in sorted_indices_knn:\n",
    "    print(f\"Feature {i+1}: {importance_scores_knn[i]}\")\n"
   ]
  },
  {
   "cell_type": "code",
   "execution_count": 16,
   "metadata": {},
   "outputs": [
    {
     "name": "stdout",
     "output_type": "stream",
     "text": [
      "Selected feature indices: [ 1  3  4  5  6  7  8 10 15 17]\n"
     ]
    }
   ],
   "source": [
    "from sklearn.feature_selection import SelectKBest, f_classif\n",
    "from sklearn.datasets import make_classification\n",
    "\n",
    "# Generate some example data (replace this with your own dataset)\n",
    "X, y = make_classification(n_samples=100, n_features=20, random_state=42)\n",
    "\n",
    "# Create a SelectKBest object with the desired score function (f_classif for classification)\n",
    "k_best = SelectKBest(score_func=f_classif, k=10)\n",
    "\n",
    "# Perform feature selection\n",
    "X_selected = k_best.fit_transform(X, y)\n",
    "\n",
    "# Get the selected feature indices\n",
    "selected_indices = k_best.get_support(indices=True)\n",
    "\n",
    "# Print the selected feature indices\n",
    "print(\"Selected feature indices:\", selected_indices)\n"
   ]
  },
  {
   "cell_type": "code",
   "execution_count": null,
   "metadata": {},
   "outputs": [],
   "source": []
  }
 ],
 "metadata": {
  "kernelspec": {
   "display_name": "New",
   "language": "python",
   "name": "python3"
  },
  "language_info": {
   "codemirror_mode": {
    "name": "ipython",
    "version": 3
   },
   "file_extension": ".py",
   "mimetype": "text/x-python",
   "name": "python",
   "nbconvert_exporter": "python",
   "pygments_lexer": "ipython3",
   "version": "3.9.16"
  },
  "orig_nbformat": 4
 },
 "nbformat": 4,
 "nbformat_minor": 2
}
